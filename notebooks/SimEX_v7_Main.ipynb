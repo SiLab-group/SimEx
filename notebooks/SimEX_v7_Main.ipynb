{
 "cells": [
  {
   "cell_type": "markdown",
   "id": "f5a7bbf0",
   "metadata": {},
   "source": [
    "## PART 4: Main Func: with Modifier.py\n",
    "Error: the NaN values for X show up when Modifier can't generate (given the interval) new values."
   ]
  },
  {
   "cell_type": "code",
   "execution_count": 1,
   "id": "67ee78a3",
   "metadata": {},
   "outputs": [
    {
     "name": "stdout",
     "output_type": "stream",
     "text": [
      "[*MAIN*]: Main loop started with parameters:  {'domain_min_range': 1, 'domain_max_range': 100, 'modifier_incremental_unit': 3, 'modifier_data_point': 10}\n",
      "[*MAIN*]: Main loop started with settings:  {'do_plot': False, 'extensive_search': True, 'extensive_iteration': False} \n",
      "\n",
      "[MODC]: *** Entering Modifier controller ***\n",
      "[MODC]: intervals list:  [(1, 100)]\n",
      "\n",
      "Simulator...\n",
      "\n",
      "\n",
      " Modx:  [1.0, 2.4347826086956523, 6.260869565217392, 12.478260869565217, 21.08695652173913, 32.086956521739125, 45.47826086956522, 61.26086956521739, 79.43478260869566, 100.0] \n",
      "symx:  [0.7538367208051101, -11.2620556809496, -11.170644901659887, -6.832694030791336, 1.4226926312405066, 4.037209111694796, 21.724395422429033, 25.884464799738005, 46.89031191767731, 44.58895514193209]\n",
      "       *** USING validator_controller\n"
     ]
    },
    {
     "ename": "AttributeError",
     "evalue": "'Validator' object has no attribute 'local_validator'",
     "output_type": "error",
     "traceback": [
      "\u001b[0;31m---------------------------------------------------------------------------\u001b[0m",
      "\u001b[0;31mAttributeError\u001b[0m                            Traceback (most recent call last)",
      "\u001b[1;32m/Users/davidecalvaresi/Documents/coding/SimEx/notebooks/SimEX_v7_Main.ipynb Cell 2\u001b[0m line \u001b[0;36m5\n\u001b[1;32m     <a href='vscode-notebook-cell:/Users/davidecalvaresi/Documents/coding/SimEx/notebooks/SimEX_v7_Main.ipynb#W1sZmlsZQ%3D%3D?line=47'>48</a>\u001b[0m \u001b[39mprint\u001b[39m(\u001b[39m'\u001b[39m\u001b[39m\\n\u001b[39;00m\u001b[39m\\n\u001b[39;00m\u001b[39m Modx: \u001b[39m\u001b[39m'\u001b[39m,mod_x,\u001b[39m'\u001b[39m\u001b[39m\\n\u001b[39;00m\u001b[39msymx: \u001b[39m\u001b[39m'\u001b[39m,sim_y_list)\n\u001b[1;32m     <a href='vscode-notebook-cell:/Users/davidecalvaresi/Documents/coding/SimEx/notebooks/SimEX_v7_Main.ipynb#W1sZmlsZQ%3D%3D?line=49'>50</a>\u001b[0m \u001b[39m# Calls Validator controller\u001b[39;00m\n\u001b[0;32m---> <a href='vscode-notebook-cell:/Users/davidecalvaresi/Documents/coding/SimEx/notebooks/SimEX_v7_Main.ipynb#W1sZmlsZQ%3D%3D?line=50'>51</a>\u001b[0m ranges \u001b[39m=\u001b[39m validator\u001b[39m.\u001b[39;49mvalidator_controller(mod_x_list\u001b[39m=\u001b[39;49mnp\u001b[39m.\u001b[39;49marray(mod_x),sim_y_list\u001b[39m=\u001b[39;49mnp\u001b[39m.\u001b[39;49marray(sim_y_list))\n\u001b[1;32m     <a href='vscode-notebook-cell:/Users/davidecalvaresi/Documents/coding/SimEx/notebooks/SimEX_v7_Main.ipynb#W1sZmlsZQ%3D%3D?line=52'>53</a>\u001b[0m \u001b[39m# Updates interval_list to new range output from validator controller\u001b[39;00m\n\u001b[1;32m     <a href='vscode-notebook-cell:/Users/davidecalvaresi/Documents/coding/SimEx/notebooks/SimEX_v7_Main.ipynb#W1sZmlsZQ%3D%3D?line=53'>54</a>\u001b[0m interval_lists \u001b[39m=\u001b[39m ranges\n",
      "File \u001b[0;32m~/Documents/coding/SimEx/notebooks/Validator.py:175\u001b[0m, in \u001b[0;36mValidator.validator_controller\u001b[0;34m(self, mod_x_list, sim_y_list, global_range, local_validator, do_plot)\u001b[0m\n\u001b[1;32m    172\u001b[0m \u001b[39mdef\u001b[39;00m \u001b[39mvalidator_controller\u001b[39m(\u001b[39mself\u001b[39m,mod_x_list, sim_y_list, global_range\u001b[39m=\u001b[39m[mdv[\u001b[39m\"\u001b[39m\u001b[39mdomain_min_range\u001b[39m\u001b[39m\"\u001b[39m], mdv[\u001b[39m\"\u001b[39m\u001b[39mdomain_max_range\u001b[39m\u001b[39m\"\u001b[39m]], local_validator\u001b[39m=\u001b[39mlocal_exploration_validator_A, do_plot\u001b[39m=\u001b[39m\u001b[39mFalse\u001b[39;00m):\n\u001b[1;32m    173\u001b[0m     \u001b[39mprint\u001b[39m(\u001b[39m'\u001b[39m\u001b[39m       *** USING validator_controller\u001b[39m\u001b[39m'\u001b[39m)\n\u001b[0;32m--> 175\u001b[0m     validator_ranges \u001b[39m=\u001b[39m \u001b[39mself\u001b[39;49m\u001b[39m.\u001b[39;49mlocal_validator(mod_x_list, sim_y_list, global_range\u001b[39m=\u001b[39m[mdv[\u001b[39m\"\u001b[39m\u001b[39mdomain_min_range\u001b[39m\u001b[39m\"\u001b[39m], mdv[\u001b[39m\"\u001b[39m\u001b[39mdomain_max_range\u001b[39m\u001b[39m\"\u001b[39m]])\n\u001b[1;32m    176\u001b[0m     \u001b[39mprint\u001b[39m(\u001b[39m'\u001b[39m\u001b[39m       *** OUTPUT validator_ranges\u001b[39m\u001b[39m'\u001b[39m,validator_ranges,\u001b[39m'\u001b[39m\u001b[39m\\n\u001b[39;00m\u001b[39m'\u001b[39m)\n\u001b[1;32m    177\u001b[0m     \u001b[39mreturn\u001b[39;00m validator_ranges\n",
      "\u001b[0;31mAttributeError\u001b[0m: 'Validator' object has no attribute 'local_validator'"
     ]
    }
   ],
   "source": [
    "# IMPORT LIBRARIES\n",
    "from sklearn import preprocessing\n",
    "import numpy as np\n",
    "import matplotlib.pyplot as plt\n",
    "from sklearn.linear_model import HuberRegressor\n",
    "from sklearn.preprocessing import StandardScaler\n",
    "from itertools import compress\n",
    "\n",
    "# import global parameters \n",
    "# TODO: make interface (widget) to load/change the parameters (low-priority)\n",
    "from global_settings import mdv,vlv\n",
    "from global_settings import mdv,simexSettings\n",
    "\n",
    "#import classes for Modifier, Simulator, and Validator,\n",
    "from Validator import Validator\n",
    "from Modifier import Modifier\n",
    "from Simulator import Simulator\n",
    "from Logger import Logger\n",
    "\n",
    "validator = Validator()\n",
    "modifier = Modifier\n",
    "simulator = Simulator\n",
    "logger = Logger()\n",
    "\n",
    "mainfunc=True\n",
    "# Initialize interval list\n",
    "interval_lists=[(mdv[\"domain_min_range\"], mdv[\"domain_max_range\"])]\n",
    "print('[*MAIN*]: Main loop started with parameters: ',mdv)\n",
    "print('[*MAIN*]: Main loop started with settings: ',simexSettings,'\\n')\n",
    "\n",
    "while mainfunc:\n",
    "    \n",
    "    # Calls Modifier Controller\n",
    "    mod_x_list= modifier.modifier_controller(ranges_list=interval_lists,local_modifier=modifier.local_modifier_A, do_plot=simexSettings[\"do_plot\"])\n",
    "\n",
    "    # breaks loop if iterations end by granularity reached\n",
    "    if not mod_x_list: # FALSE IF [\"modifier_data_point\"] < mdv[\"modifier_incremental_unit\"]:\n",
    "        print('[*MAIN*]: --   ITERATIONS END HERE  --')\n",
    "        break\n",
    "    \n",
    "    # Calls Simulator\n",
    "    mod_x,sim_y_list = simulator.simulator_controller(mod_x_list,selected_function=simulator.sim_func_B)\n",
    "    assert len(mod_x) == len(sim_y_list)\n",
    "    \n",
    "    # print to see outputs from Mod and Sim controllers\n",
    "    temp_log = \"LEN OF MODX-SIMY: \",str(len(mod_x)),\" symx: \",str(len(sim_y_list))\n",
    "    logger.log_main(temp_log)\n",
    "    print('\\n\\n Modx: ',mod_x,'\\nsymx: ',sim_y_list)\n",
    "    \n",
    "    # Calls Validator controller\n",
    "    ranges = validator.validator_controller(mod_x_list=np.array(mod_x),sim_y_list=np.array(sim_y_list))\n",
    "    \n",
    "    # Updates interval_list to new range output from validator controller\n",
    "    interval_lists = ranges\n",
    "logger.log_main(\"   ***   VAL overall stats    ***   \")\n",
    "\n",
    "\n",
    "# TODO: make a list of history variable that are needed in validator: i-e- number of points total, number of good points, etc. "
   ]
  },
  {
   "cell_type": "code",
   "execution_count": null,
   "metadata": {},
   "outputs": [],
   "source": []
  }
 ],
 "metadata": {
  "kernelspec": {
   "display_name": "Python 3 (ipykernel)",
   "language": "python",
   "name": "python3"
  },
  "language_info": {
   "codemirror_mode": {
    "name": "ipython",
    "version": 3
   },
   "file_extension": ".py",
   "mimetype": "text/x-python",
   "name": "python",
   "nbconvert_exporter": "python",
   "pygments_lexer": "ipython3",
   "version": "3.10.13"
  }
 },
 "nbformat": 4,
 "nbformat_minor": 5
}
