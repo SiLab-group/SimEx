{
 "cells": [
  {
   "cell_type": "markdown",
   "id": "f5a7bbf0",
   "metadata": {},
   "source": [
    "## PART 4: Main Func: with Modifier.py\n",
    "Error: the NaN values for X show up when Modifier can't generate (given the interval) new values."
   ]
  },
  {
   "cell_type": "code",
   "execution_count": 1,
   "id": "67ee78a3",
   "metadata": {},
   "outputs": [
    {
     "ename": "TypeError",
     "evalue": "Modifier.modifier_controller() got an unexpected keyword argument 'ranges_list'",
     "output_type": "error",
     "traceback": [
      "\u001b[0;31m---------------------------------------------------------------------------\u001b[0m",
      "\u001b[0;31mTypeError\u001b[0m                                 Traceback (most recent call last)",
      "\u001b[1;32m/Users/davidecalvaresi/Documents/coding/SimEx/notebooks/SimEX_v7_Main.ipynb Cell 2\u001b[0m line \u001b[0;36m4\n\u001b[1;32m     <a href='vscode-notebook-cell:/Users/davidecalvaresi/Documents/coding/SimEx/notebooks/SimEX_v7_Main.ipynb#W1sZmlsZQ%3D%3D?line=33'>34</a>\u001b[0m ranges_list\u001b[39m=\u001b[39m[(mdv[\u001b[39m\"\u001b[39m\u001b[39mdomain_min_range\u001b[39m\u001b[39m\"\u001b[39m], mdv[\u001b[39m\"\u001b[39m\u001b[39mdomain_max_range\u001b[39m\u001b[39m\"\u001b[39m])]\n\u001b[1;32m     <a href='vscode-notebook-cell:/Users/davidecalvaresi/Documents/coding/SimEx/notebooks/SimEX_v7_Main.ipynb#W1sZmlsZQ%3D%3D?line=39'>40</a>\u001b[0m \u001b[39mwhile\u001b[39;00m mainfunc:\n\u001b[1;32m     <a href='vscode-notebook-cell:/Users/davidecalvaresi/Documents/coding/SimEx/notebooks/SimEX_v7_Main.ipynb#W1sZmlsZQ%3D%3D?line=40'>41</a>\u001b[0m     \n\u001b[1;32m     <a href='vscode-notebook-cell:/Users/davidecalvaresi/Documents/coding/SimEx/notebooks/SimEX_v7_Main.ipynb#W1sZmlsZQ%3D%3D?line=41'>42</a>\u001b[0m     \u001b[39m# Calls Modifier Controller\u001b[39;00m\n\u001b[0;32m---> <a href='vscode-notebook-cell:/Users/davidecalvaresi/Documents/coding/SimEx/notebooks/SimEX_v7_Main.ipynb#W1sZmlsZQ%3D%3D?line=42'>43</a>\u001b[0m     mod_x_list\u001b[39m=\u001b[39m modifier\u001b[39m.\u001b[39;49mmodifier_controller(ranges_list\u001b[39m=\u001b[39;49mranges_list,local_modifier\u001b[39m=\u001b[39;49mmodifier\u001b[39m.\u001b[39;49mlocal_modifier_A, do_plot\u001b[39m=\u001b[39;49msimexSettings[\u001b[39m\"\u001b[39;49m\u001b[39mdo_plot\u001b[39;49m\u001b[39m\"\u001b[39;49m])\n\u001b[1;32m     <a href='vscode-notebook-cell:/Users/davidecalvaresi/Documents/coding/SimEx/notebooks/SimEX_v7_Main.ipynb#W1sZmlsZQ%3D%3D?line=44'>45</a>\u001b[0m     \u001b[39m# breaks loop if iterations end by granularity reached\u001b[39;00m\n\u001b[1;32m     <a href='vscode-notebook-cell:/Users/davidecalvaresi/Documents/coding/SimEx/notebooks/SimEX_v7_Main.ipynb#W1sZmlsZQ%3D%3D?line=45'>46</a>\u001b[0m     \u001b[39mif\u001b[39;00m \u001b[39mnot\u001b[39;00m mod_x_list: \u001b[39m# FALSE IF [\"modifier_data_point\"] < mdv[\"modifier_incremental_unit\"]:\u001b[39;00m\n",
      "\u001b[0;31mTypeError\u001b[0m: Modifier.modifier_controller() got an unexpected keyword argument 'ranges_list'"
     ]
    }
   ],
   "source": [
    "# IMPORT LIBRARIES\n",
    "from sklearn import preprocessing\n",
    "import numpy as np\n",
    "import matplotlib.pyplot as plt\n",
    "from sklearn.linear_model import HuberRegressor\n",
    "from sklearn.preprocessing import StandardScaler\n",
    "from itertools import compress\n",
    "\n",
    "# import global parameters \n",
    "# TODO: make interface (widget) to load/change the parameters (low-priority)\n",
    "from global_settings import mdv,vlv\n",
    "from global_settings import mdv,simexSettings\n",
    "\n",
    "#import classes for Modifier, Simulator, and Validator,\n",
    "from Validator import Validator\n",
    "from Modifier import Modifier\n",
    "from Simulator import Simulator\n",
    "from Logger import Logger\n",
    "\n",
    "validator = Validator()\n",
    "modifier = Modifier\n",
    "simulator = Simulator\n",
    "logger = Logger()\n",
    "\n",
    "logger_main_arguments = {}\n",
    "mainfunc = False\n",
    "\n",
    "logger_main_arguments[\"log_contex\"] = \"overall MAIN stats\"\n",
    "logger_main_arguments[\"main_status\"] = \"begin cycle\"\n",
    "logger.log_main(logger_main_arguments)\n",
    "\n",
    "mainfunc = True\n",
    "# Initialize interval list\n",
    "ranges_list=[(mdv[\"domain_min_range\"], mdv[\"domain_max_range\"])]\n",
    "\n",
    "\n",
    "\n",
    "\n",
    "\n",
    "while mainfunc:\n",
    "    \n",
    "    # Calls Modifier Controller\n",
    "    mod_x_list= modifier.modifier_controller(intervals_list=ranges_list,local_modifier=modifier.local_modifier_A, do_plot=simexSettings[\"do_plot\"])\n",
    "\n",
    "    # breaks loop if iterations end by granularity reached\n",
    "    if not mod_x_list: # FALSE IF [\"modifier_data_point\"] < mdv[\"modifier_incremental_unit\"]:\n",
    "        logger_main_arguments[\"log_contex\"] = \"overall MAIN stats\"\n",
    "        logger_main_arguments[\"main_status\"] = \"no generated points\"\n",
    "        logger.log_main(logger_main_arguments)\n",
    "        break\n",
    "    \n",
    "    # Calls Simulator\n",
    "    mod_x,sim_y_list = simulator.simulator_controller(mod_x_list,selected_function=simulator.sim_func_B)\n",
    "    assert len(mod_x) == len(sim_y_list)\n",
    "    \n",
    "    \n",
    "    # print('\\n\\n Modx: ',mod_x,'\\nsymx: ',sim_y_list)\n",
    "    \n",
    "    # Calls Validator controller\n",
    "    ranges_list = validator.validator_controller(mod_x_list=np.array(mod_x),sim_y_list=np.array(sim_y_list))\n",
    "    # Updates interval_list to new range output from validator controller\n",
    "\n",
    "    if not ranges_list:\n",
    "        mainfunc = False\n",
    "        logger_main_arguments[\"log_contex\"] = \"overall MAIN stats\"\n",
    "        logger_main_arguments[\"main_status\"] = \"no unfit intervals\"\n",
    "        logger.log_main(logger_main_arguments)\n",
    "logger_main_arguments[\"log_contex\"] = \"Overall Stats\"                          \n",
    "logger_main_arguments[\"main_status\"] = \"end cycle\"\n",
    "logger.log_main(logger_main_arguments)\n",
    "\n",
    "\n",
    "# TODO: make a list of history variable that are needed in validator: i-e- number of points total, number of good points, etc. "
   ]
  }
 ],
 "metadata": {
  "kernelspec": {
   "display_name": "Python 3 (ipykernel)",
   "language": "python",
   "name": "python3"
  },
  "language_info": {
   "codemirror_mode": {
    "name": "ipython",
    "version": 3
   },
   "file_extension": ".py",
   "mimetype": "text/x-python",
   "name": "python",
   "nbconvert_exporter": "python",
   "pygments_lexer": "ipython3",
   "version": "3.10.13"
  }
 },
 "nbformat": 4,
 "nbformat_minor": 5
}
