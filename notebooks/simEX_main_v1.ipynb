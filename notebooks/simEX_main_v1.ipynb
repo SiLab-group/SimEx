{
 "cells": [
  {
   "cell_type": "markdown",
   "id": "f5a7bbf0",
   "metadata": {},
   "source": [
    "## SimEx - Main Function"
   ]
  },
  {
   "cell_type": "code",
   "execution_count": 3,
   "id": "67ee78a3",
   "metadata": {
    "is_executing": true
   },
   "outputs": [
    {
     "ename": "ImportError",
     "evalue": "cannot import name 'components' from 'components_configuration' (/Users/cycnos/help_davide/SimEx/notebooks/components_configuration.py)",
     "output_type": "error",
     "traceback": [
      "\u001b[0;31m---------------------------------------------------------------------------\u001b[0m",
      "\u001b[0;31mImportError\u001b[0m                               Traceback (most recent call last)",
      "Cell \u001b[0;32mIn[3], line 4\u001b[0m\n\u001b[1;32m      1\u001b[0m \u001b[38;5;66;03m# IMPORT LIBRARIES\u001b[39;00m\n\u001b[1;32m      2\u001b[0m \u001b[38;5;28;01mimport\u001b[39;00m \u001b[38;5;21;01mnumpy\u001b[39;00m \u001b[38;5;28;01mas\u001b[39;00m \u001b[38;5;21;01mnp\u001b[39;00m\n\u001b[0;32m----> 4\u001b[0m \u001b[38;5;28;01mfrom\u001b[39;00m \u001b[38;5;21;01mcomponents_configuration\u001b[39;00m \u001b[38;5;28;01mimport\u001b[39;00m components\n\u001b[1;32m      5\u001b[0m \u001b[38;5;28;01mfrom\u001b[39;00m \u001b[38;5;21;01mglobal_settings\u001b[39;00m \u001b[38;5;28;01mimport\u001b[39;00m simexSettings,mds\n\u001b[1;32m      7\u001b[0m \u001b[38;5;28;01mfrom\u001b[39;00m \u001b[38;5;21;01mvalidator_controller\u001b[39;00m \u001b[38;5;28;01mimport\u001b[39;00m ValidatorController\n",
      "\u001b[0;31mImportError\u001b[0m: cannot import name 'components' from 'components_configuration' (/Users/cycnos/help_davide/SimEx/notebooks/components_configuration.py)"
     ]
    }
   ],
   "source": [
    "# IMPORT LIBRARIES\n",
    "import numpy as np\n",
    "\n",
    "from components_configuration import components\n",
    "from global_settings import simexSettings,mds\n",
    "\n",
    "from validator_controller import ValidatorController\n",
    "from modifier_controller import ModifierController\n",
    "from simulator_controller import SimulatorController\n",
    "from logger_utils import Logger\n",
    "\n",
    "validator_controller = ValidatorController()\n",
    "logger = Logger()\n",
    "logger_main_arguments = {}\n",
    "is_main_func = True\n",
    "# Initialize interval list for the first iteration\n",
    "intervals_list=[[mds['domain_min_interval'], mds['domain_max_interval']]]\n",
    "\n",
    "\n",
    "while is_main_func:\n",
    "    \n",
    "    # Calls Modifier Controller\n",
    "    mod_outcome = ModifierController.control(intervals_list=intervals_list,selected_modifier=components['modifier'], do_plot=simexSettings['do_plot'])\n",
    "    mod_x_list = mod_outcome[0]\n",
    "    checked_intervals = mod_outcome[1]\n",
    "    print(\"MAIN mod outcome\", mod_outcome)  \n",
    "\n",
    "    \n",
    "    # breaks loop if iterations end by granularity reached\n",
    "    if not mod_x_list: # FALSE IF ['modifier_data_point'] < mdv['modifier_incremental_unit']:\n",
    "        logger_main_arguments['log_contex'] = 'overall MAIN stats'\n",
    "        logger_main_arguments['main_status'] = 'no generated points'\n",
    "        logger_main_arguments['remaining_unfit_intervals'] = checked_intervals\n",
    "        logger.log_main(logger_main_arguments)\n",
    "        break\n",
    "    \n",
    "    # Calls Simulator\n",
    "    mod_x,sim_y_list = SimulatorController.simulate(mod_x_list,selected_simulator=components['simulator'])\n",
    "    assert len(mod_x) == len(sim_y_list)\n",
    "\n",
    "    print(\"MAIN modx\", mod_x)  \n",
    "\n",
    "    # Calls Validator controller\n",
    "    intervals_list =  validator_controller.validate(mod_x_list=np.array(mod_x),sim_y_list=np.array(sim_y_list), selected_validator=components['validator'],global_interval=[mds[\"domain_min_interval\"], mds[\"domain_max_interval\"]])\n",
    "    print(\"MAIN interval list from VAL:\", intervals_list)\n",
    "    \n",
    "    # Updates interval_list to new range output from validator controller\n",
    "    # No more unfit intervals -> write MAIN log\n",
    "    if not intervals_list:\n",
    "        is_main_func = False\n",
    "        logger_main_arguments['log_contex'] = 'overall MAIN stats'\n",
    "        logger_main_arguments['main_status'] = 'no unfit intervals'\n",
    "        logger.log_main(logger_main_arguments)\n",
    "\n",
    "# MAIN cycle completed/interrupted -> write OVERALL statistics        \n",
    "logger_main_arguments['log_contex'] = 'Overall Stats'                          \n",
    "logger_main_arguments['main_status'] = 'end cycle'\n",
    "logger.log_main(logger_main_arguments)\n",
    "\n"
   ]
  },
  {
   "cell_type": "code",
   "execution_count": null,
   "metadata": {
    "collapsed": false
   },
   "outputs": [],
   "source": []
  }
 ],
 "metadata": {
  "kernelspec": {
   "display_name": "Python 3 (ipykernel)",
   "language": "python",
   "name": "python3"
  },
  "language_info": {
   "codemirror_mode": {
    "name": "ipython",
    "version": 3
   },
   "file_extension": ".py",
   "mimetype": "text/x-python",
   "name": "python",
   "nbconvert_exporter": "python",
   "pygments_lexer": "ipython3",
   "version": "3.10.13"
  }
 },
 "nbformat": 4,
 "nbformat_minor": 5
}
