{
 "cells": [
  {
   "cell_type": "code",
   "id": "initial_id",
   "metadata": {
    "collapsed": true,
    "ExecuteTime": {
     "start_time": "2024-07-30T14:16:01.375114Z"
    }
   },
   "source": [
    "import subprocess\n",
    "import pandas as pd\n",
    "import os\n",
    "os.environ['INSTANCE_NAME'] = 'LOOP_script'\n",
    "from global_settings import simexSettings\n",
    "script_dir = os.path.abspath('')\n",
    "results_dir = os.path.join(script_dir, f'{simexSettings[\"results_dir\"]}')\n",
    "\n",
    "if not os.path.isdir(results_dir):\n",
    "    os.makedirs(results_dir)\n",
    "\n",
    "from DLASIUT_find_best_scenarios import automatic_performance\n",
    "scripts = [ 'sumo_vsl_run.py', 'sumo_novsl_run.py']\n",
    "loop = True\n",
    "mod_outcome = ()\n",
    "while loop:\n",
    "    files = []\n",
    "    # RUn scripts\n",
    "    for script in scripts:\n",
    "        print(\"Scripts running\")\n",
    "        if mod_outcome:\n",
    "            cmd = ['python3',script, '--intervals', mod_outcome]\n",
    "        else:\n",
    "            cmd = ['python3', script]\n",
    "        lines = subprocess.run(cmd,stdout=subprocess.PIPE).stdout.splitlines()\n",
    "        print(f\" LINES: {lines}\")\n",
    "        for line in lines:\n",
    "            output = \"{}\".format(line.rstrip().decode(\"utf-8\"))\n",
    "            if 'simex_output' in output:\n",
    "                print(f\"Output file append: {output}\")\n",
    "                files.append(output)\n",
    "            \n",
    "        \n",
    "    # collect name of the csv file\n",
    "    if len(files) == 2:\n",
    "        df_baseline = pd.read_csv(files[1])\n",
    "        df_control = pd.read_csv(files[0])\n",
    "        # Main Function receives np.arrays\n",
    "        dataset_baseline = df_baseline.to_numpy()\n",
    "        dataset_control = df_control.to_numpy()\n",
    "    \n",
    "        # Run martin script on the csv files\n",
    "        _incremnet_step_for_x = 10\n",
    "        _max_order_of_polynom = 9\n",
    "        _tolerance_in_diffrence=12\n",
    "        results = automatic_performance(dataset_baseline,dataset_control,incremnet_step_for_x=_incremnet_step_for_x,max_order_of_polynom=_max_order_of_polynom,tolerance_in_diffrence=_tolerance_in_diffrence)\n",
    "        print(f\"Results: {results}\")\n",
    "        \n",
    "    else:\n",
    "        print(f\" File lenght: {len(files)} for {files}  \\n BREAKING\")\n",
    "        #break\n",
    "\n",
    "    if results:\n",
    "        # get moddifiers ?? providing the initial x values to the script???\n",
    "        from modifier_controller import ModifierController\n",
    "        from components_configuration import components\n",
    "        mod_outcome = ModifierController.control(intervals_list=results, selected_modifier=components['modifierA'],\n",
    "                                                 do_plot=simexSettings['do_plot'])\n",
    "    else:\n",
    "        loop = False\n"
   ],
   "outputs": [
    {
     "name": "stdout",
     "output_type": "stream",
     "text": [
      "Scripts running\n"
     ]
    }
   ],
   "execution_count": null
  },
  {
   "metadata": {
    "ExecuteTime": {
     "end_time": "2024-07-30T08:32:10.493480Z",
     "start_time": "2024-07-30T08:32:10.462350Z"
    }
   },
   "cell_type": "code",
   "source": "type(mod_outcome)\n",
   "id": "f581fbecce9f4d5d",
   "outputs": [
    {
     "ename": "NameError",
     "evalue": "name 'mod_outcome' is not defined",
     "output_type": "error",
     "traceback": [
      "\u001B[0;31m---------------------------------------------------------------------------\u001B[0m",
      "\u001B[0;31mNameError\u001B[0m                                 Traceback (most recent call last)",
      "Cell \u001B[0;32mIn[4], line 1\u001B[0m\n\u001B[0;32m----> 1\u001B[0m \u001B[38;5;28mtype\u001B[39m(\u001B[43mmod_outcome\u001B[49m)\n",
      "\u001B[0;31mNameError\u001B[0m: name 'mod_outcome' is not defined"
     ]
    }
   ],
   "execution_count": 4
  },
  {
   "metadata": {
    "ExecuteTime": {
     "end_time": "2024-07-30T08:30:38.206795Z",
     "start_time": "2024-07-30T08:30:38.200007Z"
    }
   },
   "cell_type": "code",
   "source": "type(results)",
   "id": "55ed657b25480860",
   "outputs": [
    {
     "data": {
      "text/plain": [
       "list"
      ]
     },
     "execution_count": 7,
     "metadata": {},
     "output_type": "execute_result"
    }
   ],
   "execution_count": 7
  },
  {
   "metadata": {
    "ExecuteTime": {
     "end_time": "2024-07-25T15:28:14.021440Z",
     "start_time": "2024-07-25T15:28:14.010938Z"
    }
   },
   "cell_type": "code",
   "source": [
    "mod_outcome = ModifierController.control(intervals_list=results, selected_modifier=components['modifierA'],\n",
    "                                             do_plot=simexSettings['do_plot'])"
   ],
   "id": "b403f9172be348e9",
   "outputs": [
    {
     "name": "stdout",
     "output_type": "stream",
     "text": [
      "Modifier...\n",
      "[MODC]: (interval_min_tick, interval_max_tick):  (2810.0, 2870.0)\n",
      "[MODC]: mod_ticks:  [2825, 2850]\n",
      "[MODC]: mod_x:  [2825.0, 2850.0]\n",
      "[MODC]: (interval_min_tick, interval_max_tick):  (3320.0, 3360.0)\n",
      "[MODC]: mod_ticks:  [3325, 3350]\n",
      "[MODC]: mod_x:  [3325.0, 3350.0]\n",
      "[MODC]: (interval_min_tick, interval_max_tick):  (3400.0, 3520.0)\n",
      "[MODC]: mod_ticks:  [3425, 3450, 3475, 3500]\n",
      "[MODC]: mod_x:  [3425.0, 3449.8194945848377, 3474.8194945848377, 3500.0]\n",
      "[MODC]: (interval_min_tick, interval_max_tick):  (3530.0, 3750.0)\n",
      "[MODC]: mod_ticks:  [3550, 3575, 3600, 3625, 3650, 3675, 3700, 3725]\n",
      "[MODC]: mod_x:  [3550.0, 3574.4845360824743, 3599.14089347079, 3623.9690721649486, 3648.9690721649486, 3674.14089347079, 3699.4845360824743, 3725.0]\n",
      "[MODC]: (interval_min_tick, interval_max_tick):  (3760.0, 3810.0)\n",
      "[MODC]: mod_ticks:  [3775, 3800]\n",
      "[MODC]: mod_x:  [3775.0, 3800.0]\n",
      "[MODC]: (interval_min_tick, interval_max_tick):  (3890.0, 3900.0)\n"
     ]
    }
   ],
   "execution_count": 20
  },
  {
   "metadata": {
    "ExecuteTime": {
     "end_time": "2024-07-25T15:28:17.702419Z",
     "start_time": "2024-07-25T15:28:17.695482Z"
    }
   },
   "cell_type": "code",
   "source": "mod_outcome",
   "id": "e5cdd669a8f08e1f",
   "outputs": [
    {
     "data": {
      "text/plain": [
       "([[2825.0, 2850.0],\n",
       "  [3325.0, 3350.0],\n",
       "  [3425.0, 3449.8194945848377, 3474.8194945848377, 3500.0],\n",
       "  [3550.0,\n",
       "   3574.4845360824743,\n",
       "   3599.14089347079,\n",
       "   3623.9690721649486,\n",
       "   3648.9690721649486,\n",
       "   3674.14089347079,\n",
       "   3699.4845360824743,\n",
       "   3725.0],\n",
       "  [3775.0, 3800.0]],\n",
       " [[2810.0, 2870.0],\n",
       "  [3320.0, 3360.0],\n",
       "  [3400.0, 3520.0],\n",
       "  [3530.0, 3750.0],\n",
       "  [3760.0, 3810.0],\n",
       "  [3890.0, 3900.0]])"
      ]
     },
     "execution_count": 21,
     "metadata": {},
     "output_type": "execute_result"
    }
   ],
   "execution_count": 21
  },
  {
   "metadata": {},
   "cell_type": "code",
   "outputs": [],
   "execution_count": null,
   "source": "",
   "id": "b6e1719dfdd9a466"
  }
 ],
 "metadata": {
  "kernelspec": {
   "display_name": "Python 3",
   "language": "python",
   "name": "python3"
  },
  "language_info": {
   "codemirror_mode": {
    "name": "ipython",
    "version": 2
   },
   "file_extension": ".py",
   "mimetype": "text/x-python",
   "name": "python",
   "nbconvert_exporter": "python",
   "pygments_lexer": "ipython2",
   "version": "2.7.6"
  }
 },
 "nbformat": 4,
 "nbformat_minor": 5
}
