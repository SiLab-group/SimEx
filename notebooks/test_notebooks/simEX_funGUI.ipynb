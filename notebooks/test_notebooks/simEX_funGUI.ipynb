{
 "cells": [
  {
   "cell_type": "code",
   "execution_count": 2,
   "id": "f245c784-0372-43cf-847b-9d8b70fde914",
   "metadata": {},
   "source": [
    "#IMPORTS\n",
    "from sklearn import preprocessing\n",
    "## VALIDATOR FILE: :\n",
    "import numpy as np\n",
    "import matplotlib.pyplot as plt\n",
    "from sklearn.linear_model import HuberRegressor\n",
    "from sklearn.preprocessing import StandardScaler\n",
    "from global_settings import threshold_x_interval,threshold_y_fitting, mdv\n",
    "from itertools import compress\n",
    "import Validator\n",
    "import Modifier\n",
    "import Simulator"
   ],
   "outputs": []
  },
  {
   "attachments": {},
   "cell_type": "markdown",
   "id": "bca26777",
   "metadata": {},
   "source": [
    "## Part 3: VALIDATOR.py to test\n",
    "modifier and simulator working in dynamic way, with hardcoded ranges\n",
    "* next step, extract the ranges  DONE\n",
    "\n"
   ]
  },
  {
   "cell_type": "code",
   "execution_count": 9,
   "id": "5bb82702",
   "metadata": {},
   "source": [
    "\n",
    "\n",
    "\n",
    "validator = Validator\n",
    "modifier = Modifier\n",
    "simulator = Simulator\n",
    "appendedvars=[]\n",
    "\n",
    "\n",
    "### TEST CASE:\n",
    "# Generate x values\n",
    "mod_x = np.linspace(1,20,40)\n",
    "# Generate y values\n",
    "sim_y_list = mod_x*2\n",
    "\n",
    "# Add two ranges of outliers\n",
    "outliers_indices = [0,1,7,11,12,13,14,22,24,35,36]\n",
    "outliers_values = np.array([3,0,32, -1,0.6,0,0,25,26,18,17.5])\n",
    "\n",
    "sim_y_list[outliers_indices] = outliers_values\n",
    "print('** Sim y and Mod x output\\n', sim_y_list,'\\n',mod_x,'\\n') \n",
    "\n",
    "\n",
    "# Extracting x and y values for plotting\n",
    "x_values = mod_x\n",
    "y_values = sim_y_list\n",
    "\n",
    "output = validator.Validator.validator_controller(mod_x_list=x_values,sim_y_list=y_values)\n",
    "print('** Validator output\\n', output,'\\n\\n') \n"
   ],
   "outputs": []
  },
  {
   "cell_type": "markdown",
   "id": "f5a7bbf0",
   "metadata": {},
   "source": [
    "## PART 4: Main Func: with Modifier.py\n",
    "Error: the NaN values for X show up when Modifier can't generate (given the interval) new values."
   ]
  },
  {
   "cell_type": "code",
   "execution_count": 1,
   "id": "67ee78a3",
   "metadata": {},
   "source": [
    "# PLACEHOLDER FOR THE MAIN FUNCTION V2\n",
    "#IMPORTS\n",
    "from sklearn import preprocessing\n",
    "## VALIDATOR FILE: :\n",
    "import numpy as np\n",
    "import matplotlib.pyplot as plt\n",
    "from sklearn.linear_model import HuberRegressor\n",
    "from sklearn.preprocessing import StandardScaler\n",
    "from global_settings import threshold_x_interval,threshold_y_fitting, mdv\n",
    "from itertools import compress\n",
    "import Validator\n",
    "import Modifier\n",
    "import Simulator\n",
    "\n",
    "from global_settings import mdv\n",
    "from Validator import Validator\n",
    "from Modifier import Modifier\n",
    "from Simulator import Simulator\n",
    "\n",
    "print('* MDV: \\n',mdv,'\\n')\n",
    "\n",
    "validator = Validator\n",
    "modifier = Modifier\n",
    "simulator = Simulator\n",
    "appendedvars=[]\n",
    "\n",
    "mainfunc=True\n",
    "# Initialize interval list\n",
    "interval_lists=[(mdv[\"domain_min_range\"], mdv[\"domain_max_range\"])]\n",
    "x=1\n",
    "while mainfunc==True:\n",
    "    mod_x_list= modifier.modifier_controller(range_list=interval_lists,local_modifier=modifier.local_modifier_A, do_plot=False)\n",
    "\n",
    "    if mod_x_list == False: # FALSE IF [\"modifier_data_point\"] < mdv[\"modifier_incremental_unit\"]:\n",
    "        print('*   ITERATIONS END HERE   *')\n",
    "        break\n",
    "\n",
    "    mod_x,sim_y_list = simulator.simulator_controller(mod_x_list,selected_function=simulator.sim_func_B)\n",
    "    assert len(mod_x) == len(sim_y_list)\n",
    "    \n",
    "    print('\\n\\n Modx: ',mod_x,'\\nsymx: ',sim_y_list)\n",
    "    print('\\nValidator ...')\n",
    "    ranges = validator.validator_controller(mod_x_list=np.array(mod_x),sim_y_list=np.array(sim_y_list))\n",
    "    interval_lists = ranges\n",
    "    print('** Validator output\\n', ranges,'\\n\\n') \n"
   ],
   "outputs": []
  },
  {
   "cell_type": "code",
   "execution_count": null,
   "metadata": {},
   "source": [],
   "id": "a0c26a29ffe1db89",
   "outputs": []
  }
 ],
 "metadata": {
  "kernelspec": {
   "display_name": "Python 3 (ipykernel)",
   "language": "python",
   "name": "python3"
  },
  "language_info": {
   "codemirror_mode": {
    "name": "ipython",
    "version": 3
   },
   "file_extension": ".py",
   "mimetype": "text/x-python",
   "name": "python",
   "nbconvert_exporter": "python",
   "pygments_lexer": "ipython3",
   "version": "3.10.12"
  }
 },
 "nbformat": 4,
 "nbformat_minor": 5
}
