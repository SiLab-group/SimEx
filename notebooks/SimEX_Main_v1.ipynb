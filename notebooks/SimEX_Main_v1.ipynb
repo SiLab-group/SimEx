{
 "cells": [
  {
   "cell_type": "markdown",
   "id": "f5a7bbf0",
   "metadata": {},
   "source": [
    "## SimEx - Main Function"
   ]
  },
  {
   "cell_type": "code",
   "execution_count": 1,
   "id": "67ee78a3",
   "metadata": {},
   "outputs": [
    {
     "name": "stdout",
     "output_type": "stream",
     "text": [
      "Modifier...\n",
      "[MODC]: intervals list:  [(0, 100)]\n"
     ]
    },
    {
     "ename": "ValueError",
     "evalue": "not enough values to unpack (expected 2, got 1)",
     "output_type": "error",
     "traceback": [
      "\u001b[0;31m---------------------------------------------------------------------------\u001b[0m",
      "\u001b[0;31mValueError\u001b[0m                                Traceback (most recent call last)",
      "\u001b[1;32m/Users/davidecalvaresi/Documents/coding/SimEx/notebooks/SimEX_Main_v1.ipynb Cell 2\u001b[0m line \u001b[0;36m2\n\u001b[1;32m     <a href='vscode-notebook-cell:/Users/davidecalvaresi/Documents/coding/SimEx/notebooks/SimEX_Main_v1.ipynb#W1sZmlsZQ%3D%3D?line=16'>17</a>\u001b[0m intervals_list\u001b[39m=\u001b[39m[(mds[\u001b[39m'\u001b[39m\u001b[39mdomain_min_interval\u001b[39m\u001b[39m'\u001b[39m], mds[\u001b[39m'\u001b[39m\u001b[39mdomain_max_interval\u001b[39m\u001b[39m'\u001b[39m])]\n\u001b[1;32m     <a href='vscode-notebook-cell:/Users/davidecalvaresi/Documents/coding/SimEx/notebooks/SimEX_Main_v1.ipynb#W1sZmlsZQ%3D%3D?line=19'>20</a>\u001b[0m \u001b[39mwhile\u001b[39;00m is_main_func:\n\u001b[1;32m     <a href='vscode-notebook-cell:/Users/davidecalvaresi/Documents/coding/SimEx/notebooks/SimEX_Main_v1.ipynb#W1sZmlsZQ%3D%3D?line=20'>21</a>\u001b[0m     \n\u001b[1;32m     <a href='vscode-notebook-cell:/Users/davidecalvaresi/Documents/coding/SimEx/notebooks/SimEX_Main_v1.ipynb#W1sZmlsZQ%3D%3D?line=21'>22</a>\u001b[0m     \u001b[39m# Calls Modifier Controller\u001b[39;00m\n\u001b[0;32m---> <a href='vscode-notebook-cell:/Users/davidecalvaresi/Documents/coding/SimEx/notebooks/SimEX_Main_v1.ipynb#W1sZmlsZQ%3D%3D?line=22'>23</a>\u001b[0m     mod_outcome \u001b[39m=\u001b[39m ModifierController\u001b[39m.\u001b[39;49mmodifierController(intervals_list\u001b[39m=\u001b[39;49mintervals_list,selectedModifier\u001b[39m=\u001b[39;49mselectedModifier[\u001b[39m'\u001b[39;49m\u001b[39mselectedModifier\u001b[39;49m\u001b[39m'\u001b[39;49m], do_plot\u001b[39m=\u001b[39;49msimexSettings[\u001b[39m'\u001b[39;49m\u001b[39mdo_plot\u001b[39;49m\u001b[39m'\u001b[39;49m])\n\u001b[1;32m     <a href='vscode-notebook-cell:/Users/davidecalvaresi/Documents/coding/SimEx/notebooks/SimEX_Main_v1.ipynb#W1sZmlsZQ%3D%3D?line=23'>24</a>\u001b[0m     mod_x_list \u001b[39m=\u001b[39m mod_outcome[\u001b[39m0\u001b[39m]\n\u001b[1;32m     <a href='vscode-notebook-cell:/Users/davidecalvaresi/Documents/coding/SimEx/notebooks/SimEX_Main_v1.ipynb#W1sZmlsZQ%3D%3D?line=24'>25</a>\u001b[0m     checked_intervals \u001b[39m=\u001b[39m mod_outcome[\u001b[39m1\u001b[39m]\n",
      "File \u001b[0;32m~/Documents/coding/SimEx/notebooks/ModifierController.py:35\u001b[0m, in \u001b[0;36mModifierController.modifierController\u001b[0;34m(intervals_list, selectedModifier, do_plot)\u001b[0m\n\u001b[1;32m     32\u001b[0m     intervals_list \u001b[39m=\u001b[39m [intervals_list]\n\u001b[1;32m     34\u001b[0m mod_ticks \u001b[39m=\u001b[39m np\u001b[39m.\u001b[39marange(mds[\u001b[39m\"\u001b[39m\u001b[39mdomain_min_interval\u001b[39m\u001b[39m\"\u001b[39m], mds[\u001b[39m\"\u001b[39m\u001b[39mdomain_max_interval\u001b[39m\u001b[39m\"\u001b[39m], mds[\u001b[39m\"\u001b[39m\u001b[39mmodifier_data_point\u001b[39m\u001b[39m\"\u001b[39m])\n\u001b[0;32m---> 35\u001b[0m \u001b[39mfor\u001b[39;00m i, (interval_min_tick, interval_max_tick) \u001b[39min\u001b[39;00m \u001b[39menumerate\u001b[39m(intervals_list):\n\u001b[1;32m     36\u001b[0m \n\u001b[1;32m     37\u001b[0m     \u001b[39m# Generate data points (incremental ticks and function modified x values) within the specified interval\u001b[39;00m\n\u001b[1;32m     38\u001b[0m     \u001b[39mprint\u001b[39m(\u001b[39m\"\u001b[39m\u001b[39m[MODC]: (interval_min_tick, interval_max_tick): \u001b[39m\u001b[39m\"\u001b[39m,(interval_min_tick, interval_max_tick))\n\u001b[1;32m     40\u001b[0m     \u001b[39m# Extract mod_ticks that are within intervals_list\u001b[39;00m\n",
      "\u001b[0;31mValueError\u001b[0m: not enough values to unpack (expected 2, got 1)"
     ]
    }
   ],
   "source": [
    "# IMPORT LIBRARIES\n",
    "import numpy as np\n",
    "\n",
    "from components_configuration import selectedModifier,selectedSimulator,selectedValidator\n",
    "from global_settings import simexSettings,mds\n",
    "\n",
    "from ValidatorController import ValidatorController\n",
    "from ModifierController import ModifierController\n",
    "from SimulatorController import SimulatorController\n",
    "from Logger import Logger\n",
    "\n",
    "validator_controller = ValidatorController()\n",
    "logger = Logger()\n",
    "logger_main_arguments = {}\n",
    "is_main_func = True\n",
    "# Initialize interval list for the first iteration\n",
    "intervals_list=[[mds['domain_min_interval'], mds['domain_max_interval']]]\n",
    "\n",
    "\n",
    "while is_main_func:\n",
    "    \n",
    "    # Calls Modifier Controller\n",
    "    mod_outcome = ModifierController.modifierController(intervals_list=intervals_list,selectedModifier=selectedModifier['selectedModifier'], do_plot=simexSettings['do_plot'])\n",
    "    mod_x_list = mod_outcome[0]\n",
    "    checked_intervals = mod_outcome[1]\n",
    "    print(\"MAIN mod outcome\", mod_outcome)  \n",
    "\n",
    "    \n",
    "    # breaks loop if iterations end by granularity reached\n",
    "    if not mod_x_list: # FALSE IF ['modifier_data_point'] < mdv['modifier_incremental_unit']:\n",
    "        logger_main_arguments['log_contex'] = 'overall MAIN stats'\n",
    "        logger_main_arguments['main_status'] = 'no generated points'\n",
    "        logger_main_arguments['remaining_unfit_intervals'] = checked_intervals\n",
    "        logger.log_main(logger_main_arguments)\n",
    "        break\n",
    "    \n",
    "    # Calls Simulator\n",
    "    mod_x,sim_y_list = SimulatorController.simulatorController(mod_x_list,selectedSimulator=selectedSimulator['selectedSimulator'])\n",
    "    assert len(mod_x) == len(sim_y_list)\n",
    "\n",
    "    print(\"MAIN modx\", mod_x)  \n",
    "\n",
    "    # Calls Validator controller\n",
    "    intervals_list =  validator_controller.validatorController(mod_x_list=np.array(mod_x),sim_y_list=np.array(sim_y_list), selectedValidator=selectedValidator['selectedValidator'],global_interval=[mds[\"domain_min_interval\"], mds[\"domain_max_interval\"]])\n",
    "    print(\"MAIN interval list from VAL:\", intervals_list)\n",
    "    \n",
    "    # Updates interval_list to new range output from validator controller\n",
    "    # No more unfit intervals -> write MAIN log\n",
    "    if not intervals_list:\n",
    "        is_main_func = False\n",
    "        logger_main_arguments['log_contex'] = 'overall MAIN stats'\n",
    "        logger_main_arguments['main_status'] = 'no unfit intervals'\n",
    "        logger.log_main(logger_main_arguments)\n",
    "\n",
    "# MAIN cycle completed/interrupted -> write OVERALL statistics        \n",
    "logger_main_arguments['log_contex'] = 'Overall Stats'                          \n",
    "logger_main_arguments['main_status'] = 'end cycle'\n",
    "logger.log_main(logger_main_arguments)\n",
    "\n"
   ]
  }
 ],
 "metadata": {
  "kernelspec": {
   "display_name": "Python 3 (ipykernel)",
   "language": "python",
   "name": "python3"
  },
  "language_info": {
   "codemirror_mode": {
    "name": "ipython",
    "version": 3
   },
   "file_extension": ".py",
   "mimetype": "text/x-python",
   "name": "python",
   "nbconvert_exporter": "python",
   "pygments_lexer": "ipython3",
   "version": "3.10.13"
  }
 },
 "nbformat": 4,
 "nbformat_minor": 5
}
