{
 "cells": [
  {
   "metadata": {
    "ExecuteTime": {
     "end_time": "2024-05-29T11:14:40.105372Z",
     "start_time": "2024-05-29T11:14:40.091756Z"
    }
   },
   "cell_type": "code",
   "source": [
    "from modifier import Modifier\n",
    "from global_settings import sumovsls\n",
    "\n",
    "def modifier_sumo(interval_list, modifier_list):\n",
    "        # Get interval [1.25, 2.75]\n",
    "        # Get the values from the modifier array for the interval ID,[value,...]\n",
    "        # Resample traffic volume with different granularity\n",
    "        interval_ids = [[int(num) for num in interval] for interval in interval_list]\n",
    "        mlist = []\n",
    "        for interval in interval_ids:\n",
    "            ids = []\n",
    "            volume = []\n",
    "            print(f\"Print interval {interval}\")\n",
    "            # Get traffic volume for each id\n",
    "            # We assume, constant volume per interval\n",
    "            start = modifier_list[interval[0]-1][1][0]\n",
    "            end = modifier_list[interval[1]-1][1][0]\n",
    "            # Create step for traffic volume\n",
    "            step = 25\n",
    "            for value in range(start, end, step):\n",
    "                volume.append(value)\n",
    "\n",
    "            ids = Modifier.rescale(volume,interval[0],interval[1])\n",
    "            print(f\"volume {volume}\")\n",
    "            for i in range(0,len(ids)-1):\n",
    "                mlist.append([ids[i],[volume[i]]*90])\n",
    "            print(f\"MOD list {mlist}\")\n",
    "        return mlist"
   ],
   "id": "e0224bb3b1f6673a",
   "execution_count": 2,
   "outputs": []
  },
  {
   "metadata": {
    "ExecuteTime": {
     "end_time": "2024-05-24T08:51:26.063778Z",
     "start_time": "2024-05-24T08:51:26.011711Z"
    }
   },
   "cell_type": "code",
   "source": [
    "# SUMO vsl\n",
    "from controller_modifier_scenarios import Controller\n",
    "import numpy as np\n",
    "from components_configuration import components\n",
    "\n",
    "modlist = Controller.get_list_of_modifiers(10)\n",
    "modlist"
   ],
   "id": "abf8bd75123492c3",
   "execution_count": 10,
   "outputs": []
  },
  {
   "metadata": {
    "ExecuteTime": {
     "end_time": "2024-05-23T15:09:30.653331Z",
     "start_time": "2024-05-23T14:49:48.875025Z"
    }
   },
   "cell_type": "code",
   "source": [
    "import numpy as np\n",
    "from components_configuration import components\n",
    "from global_settings import simexSettings,mds\n",
    "\n",
    "from validator_controller import ValidatorController\n",
    "from modifier_controller import ModifierController\n",
    "from simulator_controller import SimulatorController\n",
    "mod_x,sim_y_list = SimulatorController.simulator(modlist,selected_simulator=components['sumo_simulator_novsl'])"
   ],
   "id": "ff96901af16bd6a5",
   "execution_count": 4,
   "outputs": []
  },
  {
   "metadata": {
    "ExecuteTime": {
     "end_time": "2024-05-23T15:10:13.946022Z",
     "start_time": "2024-05-23T15:10:13.939020Z"
    }
   },
   "cell_type": "code",
   "source": "mod_x = [1, 2, 3, 4, 5, 6, 7, 8, 9, 10]",
   "id": "16a018461980b814",
   "execution_count": 3,
   "outputs": []
  },
  {
   "metadata": {
    "ExecuteTime": {
     "end_time": "2024-05-27T08:25:07.375153Z",
     "start_time": "2024-05-27T08:25:07.366253Z"
    }
   },
   "cell_type": "code",
   "source": [
    "l = [[2600.0, 2675.714285714286, 2754.285714285714, 2835.714285714286, 2920.0, 3007.1428571428573, 3097.1428571428573, 3190.0, 3285.714285714286, 3384.285714285714, 3485.714285714286, 3590.0, 3697.142857142857, 3807.142857142857, 3920.0, 4035.714285714286, 4154.285714285714, 4275.714285714286, 4400.0]]\n",
    "l= [[2600.0, 2675.714285714286]]\n",
    "m = [ [i,[i]*3] for i in l[0]]\n",
    "m"
   ],
   "id": "a9763a2c08ea8cd2",
   "execution_count": 4,
   "outputs": []
  },
  {
   "metadata": {},
   "cell_type": "code",
   "execution_count": 4,
   "source": [
    "sim_y_list = [386.6527777777778,\n",
    " 407.91666666666674,\n",
    " 423.98611111111103,\n",
    " 446.8888888888889,\n",
    " 481.0694444444444,\n",
    " 532.4027777777778,\n",
    " 556.4999999999999,\n",
    " 613.8194444444445,\n",
    " 701.0416666666665,\n",
    " 733.1666666666663]"
   ],
   "id": "22ca5a7f63fb471b",
   "outputs": []
  },
  {
   "metadata": {},
   "cell_type": "code",
   "execution_count": 1,
   "source": [
    "import numpy as np\n",
    "from components_configuration import components\n",
    "from global_settings import simexSettings,mds\n",
    "\n",
    "from validator_controller import ValidatorController\n",
    "from modifier_controller import ModifierController\n",
    "from simulator_controller import SimulatorController\n",
    "intervals_list=[[mds['domain_min_interval'], mds['domain_max_interval']]]\n",
    "# ModifierA np.array(x) ** 2\n",
    "# ModifierB x * 2 / 3\n",
    "mod_outcome = ModifierController.control(intervals_list=intervals_list,selected_modifier=components['modifierA'], do_plot=simexSettings['do_plot'])\n",
    "mod_x_list = mod_outcome[0]\n",
    "checked_intervals = mod_outcome[1]\n",
    "print(\"MAIN mod outcome\", mod_outcome) \n",
    "print(f\"MODXLIST {mod_x_list} checked intervals {checked_intervals}\")"
   ],
   "id": "d8bb98fbd929c250",
   "outputs": []
  },
  {
   "metadata": {
    "ExecuteTime": {
     "end_time": "2024-06-03T08:53:42.309405Z",
     "start_time": "2024-06-03T08:11:31.866650Z"
    }
   },
   "cell_type": "code",
   "source": [
    "# IMPORT LIBRARIES\n",
    "import numpy as np\n",
    "\n",
    "from components_configuration import components\n",
    "from global_settings import simexSettings,mds\n",
    "\n",
    "from validator_controller import ValidatorController\n",
    "from modifier_controller import ModifierController\n",
    "from simulator_controller import SimulatorController\n",
    "from logger_utils import Logger\n",
    "\n",
    "validator_controller = ValidatorController()\n",
    "logger = Logger()\n",
    "logger_main_arguments = {}\n",
    "is_main_func = True\n",
    "# Initialize interval list for the first iteration\n",
    "intervals_list=[[2000, 3500]]\n",
    "#intervals_list=[[2900, 3200]]\n",
    "\n",
    "\n",
    "while is_main_func:\n",
    "    \n",
    "    # Calls Modifier Controller\n",
    "    mod_outcome = ModifierController.control(intervals_list=intervals_list,selected_modifier=components['modifierA'], do_plot=simexSettings['do_plot'])\n",
    "    mod_x_list = mod_outcome[0]\n",
    "    checked_intervals = mod_outcome[1]\n",
    "    print(\"MAIN mod outcome\", mod_outcome)  \n",
    "\n",
    "    \n",
    "    # breaks loop if iterations end by granularity reached\n",
    "    if not mod_x_list: # FALSE IF ['modifier_data_point'] < mdv['modifier_incremental_unit']:\n",
    "        logger_main_arguments['log_contex'] = 'overall MAIN stats'\n",
    "        logger_main_arguments['main_status'] = 'no generated points'\n",
    "        logger_main_arguments['remaining_unfit_intervals'] = checked_intervals\n",
    "        logger.log_main(logger_main_arguments)\n",
    "        break\n",
    "    \n",
    "    # Calls Simulator\n",
    "    mod_x,sim_y_list = SimulatorController.simulate(mod_x_list,selected_simulator=components['sumo_simulator_vsl'])\n",
    "    print(f\"MODX {mod_x} and sim_y_list {sim_y_list}\")\n",
    "    assert len(mod_x) == len(sim_y_list)\n",
    "\n",
    "    print(\"MAIN modx\", mod_x)  \n",
    "\n",
    "    # Calls Validator controller\n",
    "    intervals_list =  validator_controller.validate(mod_x_list=np.array(mod_x),sim_y_list=np.array(sim_y_list), selected_validator=components['validator'],global_interval=[mds[\"domain_min_interval\"], mds[\"domain_max_interval\"]])\n",
    "    print(\"MAIN interval list from VAL:\", intervals_list)\n",
    "    \n",
    "    # Updates interval_list to new range output from validator controller\n",
    "    # No more unfit intervals -> write MAIN log\n",
    "    if not intervals_list:\n",
    "        is_main_func = False\n",
    "        logger_main_arguments['log_contex'] = 'overall MAIN stats'\n",
    "        logger_main_arguments['main_status'] = 'no unfit intervals'\n",
    "        logger.log_main(logger_main_arguments)\n",
    "\n",
    "# MAIN cycle completed/interrupted -> write OVERALL statistics        \n",
    "logger_main_arguments['log_contex'] = 'Overall Stats'                          \n",
    "logger_main_arguments['main_status'] = 'end cycle'\n",
    "logger.log_main(logger_main_arguments)"
   ],
   "id": "d78a79f9a7eb8fd",
   "execution_count": 2,
   "outputs": []
  },
  {
   "metadata": {},
   "cell_type": "code",
   "execution_count": null,
   "source": " mod_ticks = np.arange(mds[\"domain_min_interval\"], mds[\"domain_max_interval\"], mds[\"modifier_data_point\"])\n",
   "id": "43ee2da8d9ccd2cc",
   "outputs": []
  },
  {
   "metadata": {},
   "cell_type": "code",
   "source": [
    "import pickle\n",
    "def save_object(obj, filename):\n",
    "    with open(filename, 'wb') as outp:  # Overwrites any existing file.\n",
    "        pickle.dump(obj, outp, pickle.HIGHEST_PROTOCOL)\n",
    "\n",
    "save_object(validator_controller,\"vc_vsl-test.pkl\")"
   ],
   "id": "5a46469e1a564087",
   "execution_count": null,
   "outputs": []
  },
  {
   "metadata": {
    "ExecuteTime": {
     "end_time": "2024-05-24T15:36:26.136075Z",
     "start_time": "2024-05-24T15:36:25.712919Z"
    }
   },
   "cell_type": "code",
   "source": [
    "import matplotlib.pyplot as plt\n",
    "from global_settings import vfs\n",
    "import pickle\n",
    "\n",
    "plt.figure(figsize=(10, 6))\n",
    "#vsl = validator_controller_vsl\n",
    "#nvsl = validator_controller_novsl\n",
    "\n",
    "# How to read pickle file from\n",
    "vsl = pickle.load(open(\"vc_vsl.pkl\", \"rb\"))\n",
    "nvsl = pickle.load(open(\"vc_novsl.pkl\", \"rb\"))\n",
    "\n",
    "# Plot for vsl\n",
    "#for controller in [validator_controller_vsl,validator_controller_novsl]:\n",
    "# controller= validator_controller_novsl\n",
    "#    print(f\"X values and Y values {controller.x_values}{controller.y_values} predicted values {controller.predicted_values}\")\n",
    "#    plt.scatter(controller.x_values, controller.y_values, label=f'Original Data ')\n",
    "#    plt.scatter(controller.x_values, controller.predicted_values, label=f'Predicted y Data ', marker='x')\n",
    "#    plt.plot(controller.fitted_curve[2], controller.fitted_curve[1], color='red', label=f'Polynomial Regression')\n",
    "#    plt.plot(controller.fitted_curve[2], controller.fitted_curve[1] + vfs[\"threshold_y_fitting\"], color='black', label=f'threshold ')\n",
    "#    plt.plot(controller.fitted_curve[2], controller.fitted_curve[1] - vfs[\"threshold_y_fitting\"], color='black', label=f'threshold ')\n",
    "\n",
    "plt.scatter(vsl.x_values, vsl.y_values, label=f'Original Data ')\n",
    "plt.scatter(vsl.x_values, vsl.predicted_values, label=f'Predicted y Data ', marker='x')\n",
    "plt.plot(vsl.fitted_curve[2], vsl.fitted_curve[1], color='red', label=f'Polynomial Regression')\n",
    "plt.plot(vsl.fitted_curve[2], vsl.fitted_curve[1] + vfs[\"threshold_y_fitting\"], color='black', label=f'threshold ')\n",
    "plt.plot(vsl.fitted_curve[2], vsl.fitted_curve[1] - vfs[\"threshold_y_fitting\"], color='black', label=f'threshold ')\n",
    "\n",
    "plt.scatter(nvsl.x_values, nvsl.y_values, label=f'Original Data ')\n",
    "plt.scatter(nvsl.x_values, nvsl.predicted_values, label=f'Predicted y Data ', marker='x')\n",
    "plt.plot(nvsl.fitted_curve[2], nvsl.fitted_curve[1], color='red', label=f'Polynomial Regression')\n",
    "plt.plot(nvsl.fitted_curve[2], nvsl.fitted_curve[1] + vfs[\"threshold_y_fitting\"], color='black', label=f'threshold ')\n",
    "plt.plot(nvsl.fitted_curve[2], nvsl.fitted_curve[1] - vfs[\"threshold_y_fitting\"], color='black', label=f'threshold ')\n",
    "\n",
    "plt.xlabel('X Values')\n",
    "plt.ylabel('Y Values')\n",
    "plt.title('Fitted Curves of vsl and novsl')\n",
    "plt.legend()\n",
    "plt.show()"
   ],
   "id": "5494a4380f5d6f2a",
   "execution_count": 12,
   "outputs": []
  },
  {
   "metadata": {
    "ExecuteTime": {
     "end_time": "2024-05-27T06:52:47.330187Z",
     "start_time": "2024-05-27T06:52:44.624300Z"
    }
   },
   "cell_type": "code",
   "source": [
    "from components_configuration import components\n",
    "from modifier_controller import ModifierController\n",
    "from global_settings import simexSettings,mds\n",
    "\n",
    "# Initialize interval list for the first iteration\n",
    "intervals_list=[[mds['domain_min_interval'], mds['domain_max_interval']]]\n",
    "\n",
    "mod_outcome = ModifierController.control(intervals_list=intervals_list,selected_modifier=components['modifier'], do_plot=simexSettings['do_plot'])\n",
    "mod_x_list = mod_outcome[0]\n",
    "checked_intervals = mod_outcome[1]\n",
    "print(\"MAIN mod outcome\", mod_outcome)\n",
    "\n",
    "# Static tick does not work?"
   ],
   "id": "fe214ea080c0168d",
   "execution_count": 1,
   "outputs": []
  },
  {
   "metadata": {},
   "cell_type": "code",
   "execution_count": null,
   "source": "",
   "id": "e01efb4226c04436",
   "outputs": []
  }
 ],
 "metadata": {
  "kernelspec": {
   "display_name": "Python 3",
   "language": "python",
   "name": "python3"
  },
  "language_info": {
   "codemirror_mode": {
    "name": "ipython",
    "version": 2
   },
   "file_extension": ".py",
   "mimetype": "text/x-python",
   "name": "python",
   "nbconvert_exporter": "python",
   "pygments_lexer": "ipython2",
   "version": "2.7.6"
  }
 },
 "nbformat": 4,
 "nbformat_minor": 5
}
