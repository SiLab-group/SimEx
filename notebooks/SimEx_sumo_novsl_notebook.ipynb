{
 "cells": [
  {
   "cell_type": "code",
   "execution_count": null,
   "id": "initial_id",
   "metadata": {
    "collapsed": true
   },
   "outputs": [],
   "source": [
    "import pickle\n",
    "def save_object(obj, filename):\n",
    "    with open(filename, 'wb') as outp:  # Overwrites any existing file.\n",
    "        pickle.dump(obj, outp, pickle.HIGHEST_PROTOCOL)\n",
    "        \n",
    "import datetime"
   ]
  },
  {
   "metadata": {
    "ExecuteTime": {
     "end_time": "2024-05-28T14:01:33.797258Z",
     "start_time": "2024-05-28T14:00:11.006281Z"
    }
   },
   "cell_type": "code",
   "source": [
    "# IMPORT LIBRARIES\n",
    "import numpy as np\n",
    "\n",
    "from components_configuration import components\n",
    "from global_settings import simexSettings,mds\n",
    "\n",
    "from validator_controller import ValidatorController\n",
    "from modifier_controller import ModifierController\n",
    "from simulator_controller import SimulatorController\n",
    "from logger_utils import Logger\n",
    "\n",
    "validator_controller_novsl = ValidatorController()\n",
    "logger = Logger()\n",
    "logger_main_arguments = {}\n",
    "is_main_func = True\n",
    "\n",
    "# SUMO vsl\n",
    "from controller_modifier_scenarios import Controller\n",
    "\n",
    "# SUMO vsl generate modifiers [[1,[2900,...2900],[2,[3000,...3000]....]\n",
    "modlist = Controller.get_list_of_modifiers(10)\n",
    "# print(f\"Mod list: {modlist}\")\n",
    "# mod_x_list = modlist\n",
    "\n",
    "# Calls Simulator\n",
    "# Input: list of ids and modifiers [[1,[2900,...2900],[2,[3000,...3000]....]\n",
    "# Output: IDs,SIMULATED(values) [[1,388.88],[2,420.22]]\n",
    "mod_xnv,sim_y_listnv = SimulatorController.simulator(modlist,selected_simulator=components['sumo_simulator_novsl'])\n",
    "assert len(mod_xnv) == len(sim_y_listnv)\n",
    "\n",
    "print(\"MAIN modx\", mod_xnv)\n",
    "\n",
    "# Calls Validator controller\n",
    "intervals_list_novsl =  validator_controller_novsl.validate(mod_x_list=np.array(mod_xnv),sim_y_list=np.array(sim_y_listnv), selected_validator=components['validator'],global_interval=[1, 10])\n",
    "print(\"MAIN interval list from VAL:\", intervals_list_novsl)\n",
    "\n",
    "filename1 = datetime.datetime.now().strftime(\"%Y%m%d-%H%M%S\")\n",
    "save_object(validator_controller_novsl,f\"vc_novsl-{filename1}.pkl\")\n",
    "\n",
    "# MAIN cycle completed/interrupted -> write OVERALL statistics        \n",
    "logger_main_arguments['log_contex'] = 'Overall Stats'                          \n",
    "logger_main_arguments['main_status'] = 'end cycle'\n",
    "logger.log_main(logger_main_arguments)"
   ],
   "id": "f41c1e524bc3e258",
   "outputs": [
    {
     "name": "stdout",
     "output_type": "stream",
     "text": [
      "Simulator...\n",
      "Running sumo simulator\n",
      " Retrying in 1 seconds\n"
     ]
    },
    {
     "ename": "KeyboardInterrupt",
     "evalue": "",
     "output_type": "error",
     "traceback": [
      "\u001B[0;31m---------------------------------------------------------------------------\u001B[0m",
      "\u001B[0;31mKeyboardInterrupt\u001B[0m                         Traceback (most recent call last)",
      "Cell \u001B[0;32mIn[2], line 28\u001B[0m\n\u001B[1;32m     21\u001B[0m modlist \u001B[38;5;241m=\u001B[39m Controller\u001B[38;5;241m.\u001B[39mget_list_of_modifiers(\u001B[38;5;241m10\u001B[39m)\n\u001B[1;32m     22\u001B[0m \u001B[38;5;66;03m# print(f\"Mod list: {modlist}\")\u001B[39;00m\n\u001B[1;32m     23\u001B[0m \u001B[38;5;66;03m# mod_x_list = modlist\u001B[39;00m\n\u001B[1;32m     24\u001B[0m \n\u001B[1;32m     25\u001B[0m \u001B[38;5;66;03m# Calls Simulator\u001B[39;00m\n\u001B[1;32m     26\u001B[0m \u001B[38;5;66;03m# Input: list of ids and modifiers [[1,[2900,...2900],[2,[3000,...3000]....]\u001B[39;00m\n\u001B[1;32m     27\u001B[0m \u001B[38;5;66;03m# Output: IDs,SIMULATED(values) [[1,388.88],[2,420.22]]\u001B[39;00m\n\u001B[0;32m---> 28\u001B[0m mod_xnv,sim_y_listnv \u001B[38;5;241m=\u001B[39m \u001B[43mSimulatorController\u001B[49m\u001B[38;5;241;43m.\u001B[39;49m\u001B[43msimulator\u001B[49m\u001B[43m(\u001B[49m\u001B[43mmodlist\u001B[49m\u001B[43m,\u001B[49m\u001B[43mselected_simulator\u001B[49m\u001B[38;5;241;43m=\u001B[39;49m\u001B[43mcomponents\u001B[49m\u001B[43m[\u001B[49m\u001B[38;5;124;43m'\u001B[39;49m\u001B[38;5;124;43msumo_simulator_novsl\u001B[39;49m\u001B[38;5;124;43m'\u001B[39;49m\u001B[43m]\u001B[49m\u001B[43m)\u001B[49m\n\u001B[1;32m     29\u001B[0m \u001B[38;5;28;01massert\u001B[39;00m \u001B[38;5;28mlen\u001B[39m(mod_xnv) \u001B[38;5;241m==\u001B[39m \u001B[38;5;28mlen\u001B[39m(sim_y_listnv)\n\u001B[1;32m     31\u001B[0m \u001B[38;5;28mprint\u001B[39m(\u001B[38;5;124m\"\u001B[39m\u001B[38;5;124mMAIN modx\u001B[39m\u001B[38;5;124m\"\u001B[39m, mod_xnv)\n",
      "File \u001B[0;32m~/tmp/repos/SimEx/notebooks/simulator_controller.py:25\u001B[0m, in \u001B[0;36mSimulatorController.simulator\u001B[0;34m(mod_x, selected_simulator)\u001B[0m\n\u001B[1;32m     23\u001B[0m arrays \u001B[38;5;241m=\u001B[39m [mod_x[x][\u001B[38;5;241m1\u001B[39m] \u001B[38;5;28;01mfor\u001B[39;00m x \u001B[38;5;129;01min\u001B[39;00m \u001B[38;5;28mrange\u001B[39m(\u001B[38;5;241m0\u001B[39m, \u001B[38;5;28mlen\u001B[39m(mod_x))]\n\u001B[1;32m     24\u001B[0m \u001B[38;5;66;03m# print(f\" IN SIMULATE arrays: {arrays}\")\u001B[39;00m\n\u001B[0;32m---> 25\u001B[0m simulated_y \u001B[38;5;241m=\u001B[39m [selected_simulator(array) \u001B[38;5;28;01mfor\u001B[39;00m array \u001B[38;5;129;01min\u001B[39;00m arrays]\n\u001B[1;32m     26\u001B[0m \u001B[38;5;28;01mreturn\u001B[39;00m ids, simulated_y\n",
      "File \u001B[0;32m~/tmp/repos/SimEx/notebooks/simulator_controller.py:25\u001B[0m, in \u001B[0;36m<listcomp>\u001B[0;34m(.0)\u001B[0m\n\u001B[1;32m     23\u001B[0m arrays \u001B[38;5;241m=\u001B[39m [mod_x[x][\u001B[38;5;241m1\u001B[39m] \u001B[38;5;28;01mfor\u001B[39;00m x \u001B[38;5;129;01min\u001B[39;00m \u001B[38;5;28mrange\u001B[39m(\u001B[38;5;241m0\u001B[39m, \u001B[38;5;28mlen\u001B[39m(mod_x))]\n\u001B[1;32m     24\u001B[0m \u001B[38;5;66;03m# print(f\" IN SIMULATE arrays: {arrays}\")\u001B[39;00m\n\u001B[0;32m---> 25\u001B[0m simulated_y \u001B[38;5;241m=\u001B[39m [\u001B[43mselected_simulator\u001B[49m\u001B[43m(\u001B[49m\u001B[43marray\u001B[49m\u001B[43m)\u001B[49m \u001B[38;5;28;01mfor\u001B[39;00m array \u001B[38;5;129;01min\u001B[39;00m arrays]\n\u001B[1;32m     26\u001B[0m \u001B[38;5;28;01mreturn\u001B[39;00m ids, simulated_y\n",
      "File \u001B[0;32m~/tmp/repos/SimEx/notebooks/simulator.py:162\u001B[0m, in \u001B[0;36mSimulator.sumo_simulator_novsl\u001B[0;34m(modifier_list)\u001B[0m\n\u001B[1;32m    159\u001B[0m traci\u001B[38;5;241m.\u001B[39mstart(sumoCmd)\n\u001B[1;32m    161\u001B[0m \u001B[38;5;28;01mwhile\u001B[39;00m (step \u001B[38;5;241m<\u001B[39m sim_duration \u001B[38;5;241m*\u001B[39m \u001B[38;5;241m3600\u001B[39m \u001B[38;5;241m*\u001B[39m (\u001B[38;5;241m1\u001B[39m \u001B[38;5;241m/\u001B[39m step_length)):\n\u001B[0;32m--> 162\u001B[0m     \u001B[43mtraci\u001B[49m\u001B[38;5;241;43m.\u001B[39;49m\u001B[43msimulationStep\u001B[49m\u001B[43m(\u001B[49m\u001B[43m)\u001B[49m\n\u001B[1;32m    163\u001B[0m     \u001B[38;5;66;03m# ==================================================================\u001B[39;00m\n\u001B[1;32m    164\u001B[0m \n\u001B[1;32m    165\u001B[0m     \u001B[38;5;66;03m# ==============================================================\u001B[39;00m\n\u001B[1;32m    166\u001B[0m     \u001B[38;5;66;03m# OBJECTIVE function, cumulative travel time of all vehicles in the network per simulation\u001B[39;00m\n\u001B[1;32m    167\u001B[0m     \u001B[38;5;28;01mif\u001B[39;00m step \u001B[38;5;241m%\u001B[39m (time_sample_TTSreward \u001B[38;5;241m*\u001B[39m (\u001B[38;5;241m1\u001B[39m \u001B[38;5;241m/\u001B[39m step_length)) \u001B[38;5;241m==\u001B[39m \u001B[38;5;241m0\u001B[39m \u001B[38;5;129;01mand\u001B[39;00m step \u001B[38;5;241m>\u001B[39m \u001B[38;5;241m0\u001B[39m:\n",
      "File \u001B[0;32m~/tmp/repos/SimEx/.venv/lib/python3.10/site-packages/traci/main.py:198\u001B[0m, in \u001B[0;36msimulationStep\u001B[0;34m(step)\u001B[0m\n\u001B[1;32m    192\u001B[0m \u001B[38;5;28;01mdef\u001B[39;00m \u001B[38;5;21msimulationStep\u001B[39m(step\u001B[38;5;241m=\u001B[39m\u001B[38;5;241m0\u001B[39m):\n\u001B[1;32m    193\u001B[0m \u001B[38;5;250m    \u001B[39m\u001B[38;5;124;03m\"\"\"simulationStep(float) -> None\u001B[39;00m\n\u001B[1;32m    194\u001B[0m \u001B[38;5;124;03m    Make a simulation step and simulate up to the given second in sim time.\u001B[39;00m\n\u001B[1;32m    195\u001B[0m \u001B[38;5;124;03m    If the given value is 0 or absent, exactly one step is performed.\u001B[39;00m\n\u001B[1;32m    196\u001B[0m \u001B[38;5;124;03m    Values smaller than or equal to the current sim time result in no action.\u001B[39;00m\n\u001B[1;32m    197\u001B[0m \u001B[38;5;124;03m    \"\"\"\u001B[39;00m\n\u001B[0;32m--> 198\u001B[0m     \u001B[43mconnection\u001B[49m\u001B[38;5;241;43m.\u001B[39;49m\u001B[43mcheck\u001B[49m\u001B[43m(\u001B[49m\u001B[43m)\u001B[49m\u001B[38;5;241;43m.\u001B[39;49m\u001B[43msimulationStep\u001B[49m\u001B[43m(\u001B[49m\u001B[43mstep\u001B[49m\u001B[43m)\u001B[49m\n",
      "File \u001B[0;32m~/tmp/repos/SimEx/.venv/lib/python3.10/site-packages/traci/connection.py:368\u001B[0m, in \u001B[0;36mConnection.simulationStep\u001B[0;34m(self, step)\u001B[0m\n\u001B[1;32m    366\u001B[0m \u001B[38;5;28;01mif\u001B[39;00m \u001B[38;5;28mtype\u001B[39m(step) \u001B[38;5;129;01mis\u001B[39;00m \u001B[38;5;28mint\u001B[39m \u001B[38;5;129;01mand\u001B[39;00m step \u001B[38;5;241m>\u001B[39m\u001B[38;5;241m=\u001B[39m \u001B[38;5;241m1000\u001B[39m:\n\u001B[1;32m    367\u001B[0m     warnings\u001B[38;5;241m.\u001B[39mwarn(\u001B[38;5;124m\"\u001B[39m\u001B[38;5;124mAPI change now handles step as floating point seconds\u001B[39m\u001B[38;5;124m\"\u001B[39m, stacklevel\u001B[38;5;241m=\u001B[39m\u001B[38;5;241m2\u001B[39m)\n\u001B[0;32m--> 368\u001B[0m result \u001B[38;5;241m=\u001B[39m \u001B[38;5;28;43mself\u001B[39;49m\u001B[38;5;241;43m.\u001B[39;49m\u001B[43m_sendCmd\u001B[49m\u001B[43m(\u001B[49m\u001B[43mtc\u001B[49m\u001B[38;5;241;43m.\u001B[39;49m\u001B[43mCMD_SIMSTEP\u001B[49m\u001B[43m,\u001B[49m\u001B[43m \u001B[49m\u001B[38;5;28;43;01mNone\u001B[39;49;00m\u001B[43m,\u001B[49m\u001B[43m \u001B[49m\u001B[38;5;28;43;01mNone\u001B[39;49;00m\u001B[43m,\u001B[49m\u001B[43m \u001B[49m\u001B[38;5;124;43m\"\u001B[39;49m\u001B[38;5;124;43mD\u001B[39;49m\u001B[38;5;124;43m\"\u001B[39;49m\u001B[43m,\u001B[49m\u001B[43m \u001B[49m\u001B[43mstep\u001B[49m\u001B[43m)\u001B[49m\n\u001B[1;32m    369\u001B[0m \u001B[38;5;28;01mfor\u001B[39;00m subscriptionResults \u001B[38;5;129;01min\u001B[39;00m \u001B[38;5;28mself\u001B[39m\u001B[38;5;241m.\u001B[39m_subscriptionMapping\u001B[38;5;241m.\u001B[39mvalues():\n\u001B[1;32m    370\u001B[0m     subscriptionResults\u001B[38;5;241m.\u001B[39mreset()\n",
      "File \u001B[0;32m~/tmp/repos/SimEx/.venv/lib/python3.10/site-packages/traci/connection.py:231\u001B[0m, in \u001B[0;36mConnection._sendCmd\u001B[0;34m(self, cmdID, varID, objID, format, *values)\u001B[0m\n\u001B[1;32m    229\u001B[0m     \u001B[38;5;28mself\u001B[39m\u001B[38;5;241m.\u001B[39m_string \u001B[38;5;241m+\u001B[39m\u001B[38;5;241m=\u001B[39m struct\u001B[38;5;241m.\u001B[39mpack(\u001B[38;5;124m\"\u001B[39m\u001B[38;5;124m!i\u001B[39m\u001B[38;5;124m\"\u001B[39m, \u001B[38;5;28mlen\u001B[39m(objID)) \u001B[38;5;241m+\u001B[39m objID\n\u001B[1;32m    230\u001B[0m \u001B[38;5;28mself\u001B[39m\u001B[38;5;241m.\u001B[39m_string \u001B[38;5;241m+\u001B[39m\u001B[38;5;241m=\u001B[39m packed\n\u001B[0;32m--> 231\u001B[0m \u001B[38;5;28;01mreturn\u001B[39;00m \u001B[38;5;28;43mself\u001B[39;49m\u001B[38;5;241;43m.\u001B[39;49m\u001B[43m_sendExact\u001B[49m\u001B[43m(\u001B[49m\u001B[43m)\u001B[49m\n",
      "File \u001B[0;32m~/tmp/repos/SimEx/.venv/lib/python3.10/site-packages/traci/connection.py:131\u001B[0m, in \u001B[0;36mConnection._sendExact\u001B[0;34m(self)\u001B[0m\n\u001B[1;32m    129\u001B[0m     \u001B[38;5;28mprint\u001B[39m(\u001B[38;5;124m\"\u001B[39m\u001B[38;5;124msending\u001B[39m\u001B[38;5;124m\"\u001B[39m, Storage(length \u001B[38;5;241m+\u001B[39m \u001B[38;5;28mself\u001B[39m\u001B[38;5;241m.\u001B[39m_string)\u001B[38;5;241m.\u001B[39mgetDebugString())\n\u001B[1;32m    130\u001B[0m \u001B[38;5;28mself\u001B[39m\u001B[38;5;241m.\u001B[39m_socket\u001B[38;5;241m.\u001B[39msend(length \u001B[38;5;241m+\u001B[39m \u001B[38;5;28mself\u001B[39m\u001B[38;5;241m.\u001B[39m_string)\n\u001B[0;32m--> 131\u001B[0m result \u001B[38;5;241m=\u001B[39m \u001B[38;5;28;43mself\u001B[39;49m\u001B[38;5;241;43m.\u001B[39;49m\u001B[43m_recvExact\u001B[49m\u001B[43m(\u001B[49m\u001B[43m)\u001B[49m\n\u001B[1;32m    132\u001B[0m \u001B[38;5;28;01mif\u001B[39;00m _DEBUG:\n\u001B[1;32m    133\u001B[0m     \u001B[38;5;28mprint\u001B[39m(\u001B[38;5;124m\"\u001B[39m\u001B[38;5;124mreceiving\u001B[39m\u001B[38;5;124m\"\u001B[39m, result\u001B[38;5;241m.\u001B[39mgetDebugString())\n",
      "File \u001B[0;32m~/tmp/repos/SimEx/.venv/lib/python3.10/site-packages/traci/connection.py:109\u001B[0m, in \u001B[0;36mConnection._recvExact\u001B[0;34m(self)\u001B[0m\n\u001B[1;32m    107\u001B[0m result \u001B[38;5;241m=\u001B[39m \u001B[38;5;28mbytes\u001B[39m()\n\u001B[1;32m    108\u001B[0m \u001B[38;5;28;01mwhile\u001B[39;00m \u001B[38;5;28mlen\u001B[39m(result) \u001B[38;5;241m<\u001B[39m \u001B[38;5;241m4\u001B[39m:\n\u001B[0;32m--> 109\u001B[0m     t \u001B[38;5;241m=\u001B[39m \u001B[38;5;28;43mself\u001B[39;49m\u001B[38;5;241;43m.\u001B[39;49m\u001B[43m_socket\u001B[49m\u001B[38;5;241;43m.\u001B[39;49m\u001B[43mrecv\u001B[49m\u001B[43m(\u001B[49m\u001B[38;5;241;43m4\u001B[39;49m\u001B[43m \u001B[49m\u001B[38;5;241;43m-\u001B[39;49m\u001B[43m \u001B[49m\u001B[38;5;28;43mlen\u001B[39;49m\u001B[43m(\u001B[49m\u001B[43mresult\u001B[49m\u001B[43m)\u001B[49m\u001B[43m)\u001B[49m\n\u001B[1;32m    110\u001B[0m     \u001B[38;5;28;01mif\u001B[39;00m \u001B[38;5;129;01mnot\u001B[39;00m t:\n\u001B[1;32m    111\u001B[0m         \u001B[38;5;28;01mreturn\u001B[39;00m \u001B[38;5;28;01mNone\u001B[39;00m\n",
      "\u001B[0;31mKeyboardInterrupt\u001B[0m: "
     ]
    }
   ],
   "execution_count": 2
  },
  {
   "metadata": {},
   "cell_type": "code",
   "outputs": [],
   "execution_count": null,
   "source": "",
   "id": "d971a947787eea23"
  }
 ],
 "metadata": {
  "kernelspec": {
   "display_name": "Python 3",
   "language": "python",
   "name": "python3"
  },
  "language_info": {
   "codemirror_mode": {
    "name": "ipython",
    "version": 2
   },
   "file_extension": ".py",
   "mimetype": "text/x-python",
   "name": "python",
   "nbconvert_exporter": "python",
   "pygments_lexer": "ipython2",
   "version": "2.7.6"
  }
 },
 "nbformat": 4,
 "nbformat_minor": 5
}
