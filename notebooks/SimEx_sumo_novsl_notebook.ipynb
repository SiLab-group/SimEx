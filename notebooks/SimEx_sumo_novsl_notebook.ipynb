{
 "cells": [
  {
   "metadata": {},
   "cell_type": "markdown",
   "source": [
    "# Simex NOVSL\n",
    "This notebook runs `sumo_simulator_novsl` function which is modified to not use any VSL.\n",
    "\n",
    "For running SUMO adjust the path in the `global_settings.py` file. The global_settings.py file also contains the parameters to be set for the simulation such as interval list. The following loop runs the selected sumo simulation for selected modifiers in the loop until it approximate every region or reaches the minimum step.\n",
    "The sumo simulation function is defined in the `simulator.py` file. The function definitions for the simulator and modifier are defined in the `components.py` such as `components['sumo_simulator_novsl']`.\n",
    "\n",
    "## Important settings\n",
    "Adjust the sumo path:\n",
    "```python\n",
    "# SUMOvsl settings\n",
    "sumovsls = {\"model_path\": \"C:/Users/kusic/Desktop/SSF/SUMOVSL/SPSC_MD/model_MD/\",\n",
    "           \"sumo_path\": \"C:/Program Files (x86)/Eclipse/Sumo/bin/sumo\"} # sumo or sumo-gui\n",
    "```\n",
    "\n",
    "Setting the min/max domain interval and increment unit for the modifiers:\n",
    "```python\n",
    "# Modifier Domain Settings\n",
    "mds = {\"domain_min_interval\": 2500,\n",
    "       \"domain_max_interval\": 4000,\n",
    "       \"modifier_incremental_unit\": 25, #increment\n",
    "       \"modifier_data_point\": 100 # ID\n",
    "       }\n",
    "```\n",
    "Setting the threshold for the validator:\n",
    "```python\n",
    "# Validator Function Settings\n",
    "vfs = {'threshold_y_fitting': 15,\n",
    "       'threshold_x_interval': 0.80,\n",
    "       'degree': 2,\n",
    "       'max_deg': 9,\n",
    "       'early_stop': True,\n",
    "       'improvement_threshold': 0.1,\n",
    "       'penality_weight': 1,\n",
    "       'x_labels': 'Traffic volume [veh/h]',  # Y axis label name validator graph\n",
    "       'y_labels': 'TTS [veh$\\cdot$h]',  # Y axis label name validator graph\n",
    "       'title': f'Fitted Curve with unfit Intervals for {os.environ[\"INSTANCE_NAME\"]}',  # Title for validator graph\n",
    "       'figsize_x': 12,  # X size of the figure\n",
    "       'figsize_y': 6,  # Y size of the figure\n",
    "       'font_size': 12  # Font size in the figure\n",
    "       }\n",
    "```\n",
    "Settings for the final plot with overall curves:\n",
    "```python\n",
    "# Overall plot settings\n",
    "ops = {\n",
    "    'x_labels': 'Traffic volume [veh/h]',\n",
    "    'y_labels': 'TTS [veh$\\cdot$h]',\n",
    "    'title': f'Total fitted curves for {os.environ[\"INSTANCE_NAME\"]} case',\n",
    "    'figsize_x': 10,  # X size of the figure\n",
    "    'figsize_y': 5,  # X size of the figure\n",
    "    'linewidth': 3  # Linewidth for the functions\n",
    "    }\n",
    "```\n",
    "At the top of the notebook set up the instance name which will be used in the global_settings file:\n",
    "```python\n",
    "# Set instance name \n",
    "os.environ['INSTANCE_NAME'] = 'VSL'\n",
    "````\n",
    "Settings for the filenames:\n",
    "```python\n",
    "fs = {\n",
    "    \"log_filename\": f\"LOG-{os.environ['INSTANCE_NAME']}\",\n",
    "    \"csv_filename\": f\"simex_output-{os.environ['INSTANCE_NAME']}\"\n",
    "    }\n",
    "```\n",
    "**NOTE**: After running the main function one can run the next cell to save the logger object overall fitted functions."
   ],
   "id": "3437717c49902ba5"
  },
  {
   "metadata": {
    "ExecuteTime": {
     "end_time": "2024-08-30T09:36:52.198479Z",
     "start_time": "2024-08-30T09:36:51.671220Z"
    }
   },
   "cell_type": "code",
   "source": [
    "# IMPORT LIBRARIES\n",
    "import os\n",
    "import numpy as np\n",
    "# Set instance name \n",
    "os.environ['INSTANCE_NAME'] = 'NOVSL'\n",
    "\n",
    "from global_settings import simexSettings, mds, timestamp\n",
    "\n",
    "import pickle\n",
    "import datetime\n",
    "def save_object(obj, filename):\n",
    "    with open(filename, 'wb') as outp:  # Overwrites any existing file.\n",
    "        pickle.dump(obj, outp, pickle.HIGHEST_PROTOCOL)\n",
    "\n",
    "# Create directory for the results\n",
    "script_dir = os.path.abspath('')\n",
    "results_dir = os.path.join(script_dir, f'{simexSettings[\"results_dir\"]}')\n",
    "\n",
    "if not os.path.isdir(results_dir):\n",
    "    os.makedirs(results_dir)\n",
    "\n",
    "from components_configuration import components\n",
    "from validator_controller import ValidatorController\n",
    "from modifier_controller import ModifierController\n",
    "from simulator_controller import SimulatorController\n",
    "from logger_utils import Logger\n",
    "\n",
    "validator_controller_novsl = ValidatorController()\n",
    "logger = Logger()\n",
    "logger_main_arguments = {}\n",
    "is_main_func = True\n",
    "# Initialize interval list for the first iteration\n",
    "intervals_list=[[mds['domain_min_interval'], mds['domain_max_interval']]]\n",
    "\n",
    "# Timestamp for the validator pickle file\n",
    "count = 0\n",
    "filename1 = datetime.datetime.now().strftime(\"%Y%m%d-%H%M%S\")\n",
    "\n",
    "import time\n",
    "before = time.time()\n",
    "\n",
    "while is_main_func:\n",
    "    \n",
    "    # Calls Modifier Controller\n",
    "    # NOTE: intervals_list type is set to np.int64 due to: https://github.com/numpy/numpy/issues/8433 on windows\n",
    "    mod_outcome = ModifierController.control(intervals_list=intervals_list,selected_modifier=components['modifierA'], do_plot=simexSettings['do_plot'])\n",
    "    mod_x_list = mod_outcome[0]\n",
    "    checked_intervals = mod_outcome[1]\n",
    "    print(\"MAIN mod outcome\", mod_outcome)  \n",
    "\n",
    "    \n",
    "    # breaks loop if iterations end by granularity reached\n",
    "    if not mod_x_list: # FALSE IF ['modifier_data_point'] < mdv['modifier_incremental_unit']:\n",
    "        logger_main_arguments['log_contex'] = 'overall MAIN stats'\n",
    "        logger_main_arguments['main_status'] = 'no generated points'\n",
    "        logger_main_arguments['remaining_unfit_intervals'] = checked_intervals\n",
    "        logger.log_main(logger_main_arguments)\n",
    "        break\n",
    "    \n",
    "    # Calls Simulator\n",
    "    mod_x,sim_y_list = SimulatorController.simulate_parallel(mod_x_list,selected_simulator=components['sumo_simulator_novsl'])\n",
    "    print(f\"MODX {mod_x} and sim_y_list {sim_y_list}\")\n",
    "    assert len(mod_x) == len(sim_y_list)\n",
    "\n",
    "    print(\"MAIN modx\", mod_x)  \n",
    "\n",
    "    # Calls Validator controller\n",
    "    intervals_list =  validator_controller_novsl.validate(mod_x_list=np.array(mod_x),sim_y_list=np.array(sim_y_list), selected_validator=components['validator'],global_interval=[mds[\"domain_min_interval\"], mds[\"domain_max_interval\"]])\n",
    "    print(\"MAIN interval list from VAL:\", intervals_list)\n",
    "    # Loop number (loop-1,loop2..etc)\n",
    "    count +=1\n",
    "    save_object(validator_controller_novsl,f\"vc_{os.environ['INSTANCE_NAME']}_loop-{count}-{timestamp}.pkl\")\n",
    "    \n",
    "    # Updates interval_list to new range output from validator controller\n",
    "    # No more unfit intervals -> write MAIN log\n",
    "    if not intervals_list:\n",
    "        is_main_func = False\n",
    "        logger_main_arguments['log_contex'] = 'overall MAIN stats'\n",
    "        logger_main_arguments['main_status'] = 'no unfit intervals'\n",
    "        logger.log_main(logger_main_arguments)\n",
    "\n",
    "# MAIN cycle completed/interrupted -> write OVERALL statistics        \n",
    "logger_main_arguments['log_contex'] = 'Overall Stats'                          \n",
    "logger_main_arguments['main_status'] = 'end cycle'\n",
    "logger.log_main(logger_main_arguments)\n",
    "\n",
    "now = time.time()\n",
    "print(f\"Run time: {(now-before)/60}\")"
   ],
   "id": "d971a947787eea23",
   "outputs": [
    {
     "name": "stdout",
     "output_type": "stream",
     "text": [
      "False\n"
     ]
    },
    {
     "ename": "KeyError",
     "evalue": "'SUMO'",
     "output_type": "error",
     "traceback": [
      "\u001B[0;31m---------------------------------------------------------------------------\u001B[0m",
      "\u001B[0;31mKeyError\u001B[0m                                  Traceback (most recent call last)",
      "Cell \u001B[0;32mIn[1], line 7\u001B[0m\n\u001B[1;32m      4\u001B[0m \u001B[38;5;66;03m# Set instance name \u001B[39;00m\n\u001B[1;32m      5\u001B[0m os\u001B[38;5;241m.\u001B[39menviron[\u001B[38;5;124m'\u001B[39m\u001B[38;5;124mINSTANCE_NAME\u001B[39m\u001B[38;5;124m'\u001B[39m] \u001B[38;5;241m=\u001B[39m \u001B[38;5;124m'\u001B[39m\u001B[38;5;124mNOVSL\u001B[39m\u001B[38;5;124m'\u001B[39m\n\u001B[0;32m----> 7\u001B[0m \u001B[38;5;28;01mfrom\u001B[39;00m \u001B[38;5;21;01mglobal_settings\u001B[39;00m \u001B[38;5;28;01mimport\u001B[39;00m simexSettings, mds, timestamp\n\u001B[1;32m      9\u001B[0m \u001B[38;5;28;01mimport\u001B[39;00m \u001B[38;5;21;01mpickle\u001B[39;00m\n\u001B[1;32m     10\u001B[0m \u001B[38;5;28;01mimport\u001B[39;00m \u001B[38;5;21;01mdatetime\u001B[39;00m\n",
      "File \u001B[0;32m~/tmp/repos/SimEx/notebooks/global_settings.py:90\u001B[0m\n\u001B[1;32m     88\u001B[0m sumo_config \u001B[38;5;241m=\u001B[39m configparser\u001B[38;5;241m.\u001B[39mConfigParser()\n\u001B[1;32m     89\u001B[0m sumo_config\u001B[38;5;241m.\u001B[39mread(\u001B[38;5;124m\"\u001B[39m\u001B[38;5;124msumo_config.ini\u001B[39m\u001B[38;5;124m\"\u001B[39m)\n\u001B[0;32m---> 90\u001B[0m sumovsls \u001B[38;5;241m=\u001B[39m {\u001B[38;5;124m\"\u001B[39m\u001B[38;5;124mmodel_path\u001B[39m\u001B[38;5;124m\"\u001B[39m: \u001B[43msumo_config\u001B[49m\u001B[43m[\u001B[49m\u001B[38;5;124;43m'\u001B[39;49m\u001B[38;5;124;43mSUMO\u001B[39;49m\u001B[38;5;124;43m'\u001B[39;49m\u001B[43m]\u001B[49m[\u001B[38;5;124m'\u001B[39m\u001B[38;5;124mMODEL_PATH\u001B[39m\u001B[38;5;124m'\u001B[39m],\n\u001B[1;32m     91\u001B[0m             \u001B[38;5;124m\"\u001B[39m\u001B[38;5;124msumo_path\u001B[39m\u001B[38;5;124m\"\u001B[39m: sumo_config[\u001B[38;5;124m'\u001B[39m\u001B[38;5;124mSUMO\u001B[39m\u001B[38;5;124m'\u001B[39m][\u001B[38;5;124m'\u001B[39m\u001B[38;5;124mSUMO_PATH\u001B[39m\u001B[38;5;124m'\u001B[39m]}\n\u001B[1;32m     92\u001B[0m \u001B[38;5;66;03m#else:\u001B[39;00m\n\u001B[1;32m     93\u001B[0m     \u001B[38;5;66;03m# sumovsls = {\"model_path\": \"C:/Users/kusic/Desktop/SSF/SUMOVSL/SPSC_MD/model_MD/\",\u001B[39;00m\n\u001B[1;32m     94\u001B[0m     \u001B[38;5;66;03m#         \"sumo_path\": \"C:/Program Files (x86)/Eclipse/Sumo/bin/sumo\"}\u001B[39;00m\n\u001B[1;32m     95\u001B[0m     \u001B[38;5;66;03m# sumovsls = {\"model_path\": \"/home/amy/tmp/repos/SimEx/model_MD/\",\u001B[39;00m\n\u001B[1;32m     96\u001B[0m     \u001B[38;5;66;03m#             \"sumo_path\": \"/usr/share/sumo/bin/sumo\"}\u001B[39;00m\n",
      "File \u001B[0;32m/usr/lib/python3.10/configparser.py:965\u001B[0m, in \u001B[0;36mRawConfigParser.__getitem__\u001B[0;34m(self, key)\u001B[0m\n\u001B[1;32m    963\u001B[0m \u001B[38;5;28;01mdef\u001B[39;00m \u001B[38;5;21m__getitem__\u001B[39m(\u001B[38;5;28mself\u001B[39m, key):\n\u001B[1;32m    964\u001B[0m     \u001B[38;5;28;01mif\u001B[39;00m key \u001B[38;5;241m!=\u001B[39m \u001B[38;5;28mself\u001B[39m\u001B[38;5;241m.\u001B[39mdefault_section \u001B[38;5;129;01mand\u001B[39;00m \u001B[38;5;129;01mnot\u001B[39;00m \u001B[38;5;28mself\u001B[39m\u001B[38;5;241m.\u001B[39mhas_section(key):\n\u001B[0;32m--> 965\u001B[0m         \u001B[38;5;28;01mraise\u001B[39;00m \u001B[38;5;167;01mKeyError\u001B[39;00m(key)\n\u001B[1;32m    966\u001B[0m     \u001B[38;5;28;01mreturn\u001B[39;00m \u001B[38;5;28mself\u001B[39m\u001B[38;5;241m.\u001B[39m_proxies[key]\n",
      "\u001B[0;31mKeyError\u001B[0m: 'SUMO'"
     ]
    }
   ],
   "execution_count": 1
  },
  {
   "metadata": {
    "ExecuteTime": {
     "end_time": "2024-07-23T13:33:59.295270Z",
     "start_time": "2024-07-23T13:33:59.288689Z"
    }
   },
   "cell_type": "code",
   "source": [
    "import os\n",
    "os.environ['INSTANCE_NAME'] = 'NOVSL'\n",
    "# Save data for the last plot located in logger object\n",
    "save_object(logger.all_fit_intervals_data,f\"logger-{os.environ['INSTANCE_NAME']}-fitted_intervals-{filename1}.pkl\")\n",
    "# If not empty\n",
    "if logger.remaining_unfit_intervals:\n",
    "    save_object(logger.remaining_unfit_intervals,f\"logger-{os.environ['INSTANCE_NAME']}-unfitted_intervals-{filename1}.pkl\")\n",
    "print(f\"Logger object saved with timestamp {filename1}\")"
   ],
   "id": "39263d10ff944513",
   "outputs": [
    {
     "name": "stdout",
     "output_type": "stream",
     "text": [
      "Logger object saved with timestamp 20240723-151000\n"
     ]
    }
   ],
   "execution_count": 2
  },
  {
   "metadata": {
    "ExecuteTime": {
     "end_time": "2024-06-25T04:39:59.822859Z",
     "start_time": "2024-06-25T04:39:59.255696Z"
    }
   },
   "cell_type": "code",
   "source": [
    "import re\n",
    "from datetime import datetime\n",
    "\n",
    "import matplotlib.pyplot as plt\n",
    "import numpy as np\n",
    "from global_settings import lgs, mgs\n",
    "\n",
    "\n",
    "all_fit_intervals_data = logger.all_fit_intervals_data\n",
    "remaining_unfit_intervals = logger.remaining_unfit_intervals\n",
    "_, ax = plt.subplots(figsize=(10, 5))\n",
    "\n",
    "colors = {}\n",
    "# Plot FI intervals with their fitting functions\n",
    "for element in all_fit_intervals_data:\n",
    "    interval = element['interval']\n",
    "    fitting_function_str = element['fitting_function']\n",
    "\n",
    "    # Convert the string into a function\n",
    "    terms = re.findall(\n",
    "        r'([+-]?\\s*\\d+\\.?\\d*(?:e[+-]?\\d+)?)(x\\^\\d+)?', fitting_function_str.replace(' ', ''))\n",
    "    coefficients = [0] * 10  # Initialize a list of 10 zeros\n",
    "    for term in terms:\n",
    "        coef = float(term[0])\n",
    "        if term[1]:  # If there is an 'x' term\n",
    "            exponent = int(term[1][2:])  # Get the exponent\n",
    "            while len(coefficients) <= exponent:  # Expand the list if needed\n",
    "                coefficients.append(0)\n",
    "            # Assign the coefficient to the corresponding position in the list\n",
    "            coefficients[exponent] = coef\n",
    "        else:  # If there is no 'x' term, it's the constant term\n",
    "            coefficients[0] = coef\n",
    "    # Reverse the list to match the order expected by np.poly1d\n",
    "    fitting_function = np.poly1d(coefficients[::-1])\n",
    "\n",
    "    # Adjust the number of points as needed\n",
    "    x = np.linspace(interval[0], interval[1], 400)\n",
    "    y = fitting_function(x)\n",
    "    if fitting_function_str in colors.keys():\n",
    "        ax.plot(x, y, linewidth=3, label=f'Interval vsl: [{round(interval[0]), round(interval[1])}]',\n",
    "            color=colors[fitting_function_str])\n",
    "    else:\n",
    "        ax.plot(x, y, linewidth=3, label=f'Interval vsl: [{round(interval[0]), round(interval[1])}]')\n",
    "        color = ax.get_lines()[-1].get_color()\n",
    "        colors[fitting_function_str] = color\n",
    "\n",
    "for element in remaining_unfit_intervals:\n",
    "    ax.axvspan(*element['interval'], color='gray',\n",
    "               alpha=0.3, label='unfit Interval')\n",
    "plt.title(\"Overall fitted function novsl\")\n",
    "plt.xlabel('Traffic volume [veh/h]')\n",
    "plt.ylabel('TTS [veh$\\cdot$h]')\n",
    "plt.savefig(f\"total_function-novsl.pdf\", format='pdf')"
   ],
   "id": "86eaecbb4edc6afa",
   "outputs": [
    {
     "data": {
      "text/plain": [
       "<Figure size 1000x500 with 1 Axes>"
      ],
      "image/png": "[encoded data removed]"
     },
     "metadata": {},
     "output_type": "display_data"
    }
   ],
   "execution_count": 2
  },
  {
   "metadata": {},
   "cell_type": "code",
   "outputs": [],
   "execution_count": null,
   "source": "",
   "id": "722ca578ac3b714b"
  }
 ],
 "metadata": {
  "kernelspec": {
   "display_name": "Python 3",
   "language": "python",
   "name": "python3"
  },
  "language_info": {
   "codemirror_mode": {
    "name": "ipython",
    "version": 2
   },
   "file_extension": ".py",
   "mimetype": "text/x-python",
   "name": "python",
   "nbconvert_exporter": "python",
   "pygments_lexer": "ipython2",
   "version": "2.7.6"
  }
 },
 "nbformat": 4,
 "nbformat_minor": 5
}
