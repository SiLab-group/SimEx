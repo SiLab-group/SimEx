{
 "cells": [
  {
   "cell_type": "code",
   "id": "initial_id",
   "metadata": {
    "collapsed": true,
    "ExecuteTime": {
     "end_time": "2024-05-24T08:53:46.083039Z",
     "start_time": "2024-05-24T07:52:44.026018Z"
    }
   },
   "source": [
    "# IMPORT LIBRARIES\n",
    "import numpy as np\n",
    "\n",
    "from components_configuration import components\n",
    "from global_settings import simexSettings,mds\n",
    "\n",
    "from validator_controller import ValidatorController\n",
    "from modifier_controller import ModifierController\n",
    "from simulator_controller import SimulatorController\n",
    "from logger_utils import Logger\n",
    "\n",
    "validator_controller = ValidatorController()\n",
    "logger = Logger()\n",
    "logger_main_arguments = {}\n",
    "is_main_func = True\n",
    "\n",
    "# SUMO vsl\n",
    "from controller_modifier_scenarios import Controller\n",
    "\n",
    "# SUMO vsl generate modifiers [[1,[2900,...2900],[2,[3000,...3000]....]\n",
    "modlist = Controller.get_list_of_modifiers(10)\n",
    "# print(f\"Mod list: {modlist}\")\n",
    "# mod_x_list = modlist\n",
    "while is_main_func:\n",
    "    # Calls Simulator\n",
    "    # Input: list of ids and modifiers [[1,[2900,...2900],[2,[3000,...3000]....]\n",
    "    # Output: IDs,SIMULATED(values) [[1,388.88],[2,420.22]]\n",
    "    # USE the sumo_simulator_vsl or sumo_simulator_novsl function such as components['sumo_simulator_novsl']\n",
    "    mod_x,sim_y_list = SimulatorController.simulator(modlist,selected_simulator=components['sumo_simulator_vsl'])\n",
    "    assert len(mod_x) == len(sim_y_list)\n",
    "\n",
    "    print(\"MAIN modx\", mod_x)\n",
    "\n",
    "    # Calls Validator controller\n",
    "    intervals_list =  validator_controller.validate(mod_x_list=np.array(mod_x),sim_y_list=np.array(sim_y_list), selected_validator=components['validator'],global_interval=[1, 10])\n",
    "    print(\"MAIN interval list from VAL:\", intervals_list)\n",
    "    \n",
    "    # Updates interval_list to new range output from validator controller\n",
    "    # No more unfit intervals -> write MAIN log\n",
    "    if not intervals_list:\n",
    "        is_main_func = False\n",
    "        logger_main_arguments['log_contex'] = 'overall MAIN stats'\n",
    "        logger_main_arguments['main_status'] = 'no unfit intervals'\n",
    "        logger.log_main(logger_main_arguments)\n",
    "\n",
    "\n",
    "# MAIN cycle completed/interrupted -> write OVERALL statistics        \n",
    "logger_main_arguments['log_contex'] = 'Overall Stats'                          \n",
    "logger_main_arguments['main_status'] = 'end cycle'\n",
    "logger.log_main(logger_main_arguments)"
   ],
   "execution_count": 1,
   "outputs": []
  },
  {
   "metadata": {},
   "cell_type": "code",
   "execution_count": null,
   "source": "",
   "id": "dd5113dce1d30930",
   "outputs": []
  }
 ],
 "metadata": {
  "kernelspec": {
   "display_name": "Python 3",
   "language": "python",
   "name": "python3"
  },
  "language_info": {
   "codemirror_mode": {
    "name": "ipython",
    "version": 2
   },
   "file_extension": ".py",
   "mimetype": "text/x-python",
   "name": "python",
   "nbconvert_exporter": "python",
   "pygments_lexer": "ipython2",
   "version": "2.7.6"
  }
 },
 "nbformat": 4,
 "nbformat_minor": 5
}
