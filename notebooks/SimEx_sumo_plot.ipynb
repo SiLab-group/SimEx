{
 "cells": [
  {
   "metadata": {},
   "cell_type": "markdown",
   "source": "# Plot validators novsl and vsl",
   "id": "424529e51474329d"
  },
  {
   "metadata": {},
   "cell_type": "code",
   "outputs": [],
   "execution_count": null,
   "source": [
    "import matplotlib.pyplot as plt\n",
    "from global_settings import vfs\n",
    "\n",
    "plt.figure(figsize=(10, 6))\n",
    "# vsl = validator_controller_vsl\n",
    "# nvsl = validator_controller_novsl\n",
    "\n",
    "# Uncomment to read the validator_controller object from file to plot curves\n",
    "vsl = pickle.load(open(\"vc_vsl.pkl\", \"rb\"))\n",
    "nvsl = pickle.load(open(\"vc_novsl.pkl\", \"rb\"))\n",
    "\n",
    "# Plot for vsl\n",
    "#for controller in [validator_controller_vsl,validator_controller_novsl]:\n",
    "# controller= validator_controller_novsl\n",
    "#    print(f\"X values and Y values {controller.x_values}{controller.y_values} predicted values {controller.predicted_values}\")\n",
    "#    plt.scatter(controller.x_values, controller.y_values, label=f'Original Data ')\n",
    "#    plt.scatter(controller.x_values, controller.predicted_values, label=f'Predicted y Data ', marker='x')\n",
    "#    plt.plot(controller.fitted_curve[2], controller.fitted_curve[1], color='red', label=f'Polynomial Regression')\n",
    "#    plt.plot(controller.fitted_curve[2], controller.fitted_curve[1] + vfs[\"threshold_y_fitting\"], color='black', label=f'threshold ')\n",
    "#    plt.plot(controller.fitted_curve[2], controller.fitted_curve[1] - vfs[\"threshold_y_fitting\"], color='black', label=f'threshold ')\n",
    "\n",
    "plt.scatter(vsl.x_values, vsl.y_values, label=f'Original Data ')\n",
    "plt.scatter(vsl.x_values, vsl.predicted_values, label=f'Predicted y Data ', marker='x')\n",
    "plt.plot(vsl.fitted_curve[2], vsl.fitted_curve[1], color='red', label=f'Polynomial Regression')\n",
    "plt.plot(vsl.fitted_curve[2], vsl.fitted_curve[1] + vfs[\"threshold_y_fitting\"], color='black', label=f'threshold ')\n",
    "plt.plot(vsl.fitted_curve[2], vsl.fitted_curve[1] - vfs[\"threshold_y_fitting\"], color='black', label=f'threshold ')\n",
    "\n",
    "plt.scatter(nvsl.x_values, nvsl.y_values, label=f'Original Data ')\n",
    "plt.scatter(nvsl.x_values, nvsl.predicted_values, label=f'Predicted y Data ', marker='x')\n",
    "plt.plot(nvsl.fitted_curve[2], nvsl.fitted_curve[1], color='red', label=f'Polynomial Regression')\n",
    "plt.plot(nvsl.fitted_curve[2], nvsl.fitted_curve[1] + vfs[\"threshold_y_fitting\"], color='black', label=f'threshold ')\n",
    "plt.plot(nvsl.fitted_curve[2], nvsl.fitted_curve[1] - vfs[\"threshold_y_fitting\"], color='black', label=f'threshold ')\n",
    "\n",
    "plt.xlabel('X Values')\n",
    "plt.ylabel('Y Values')\n",
    "plt.title('Fitted Curves of vsl and novsl')\n",
    "plt.legend()\n",
    "plt.show()"
   ],
   "id": "initial_id"
  }
 ],
 "metadata": {
  "kernelspec": {
   "display_name": "Python 3",
   "language": "python",
   "name": "python3"
  },
  "language_info": {
   "codemirror_mode": {
    "name": "ipython",
    "version": 2
   },
   "file_extension": ".py",
   "mimetype": "text/x-python",
   "name": "python",
   "nbconvert_exporter": "python",
   "pygments_lexer": "ipython2",
   "version": "2.7.6"
  }
 },
 "nbformat": 4,
 "nbformat_minor": 5
}
