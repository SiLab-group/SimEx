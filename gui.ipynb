{
 "cells": [
  {
   "cell_type": "code",
   "execution_count": 32,
   "metadata": {},
   "outputs": [
    {
     "name": "stdout",
     "output_type": "stream",
     "text": [
      "The autoreload extension is already loaded. To reload it, use:\n",
      "  %reload_ext autoreload\n"
     ]
    }
   ],
   "source": [
    "import ipywidgets as widgets\n",
    "from collections import OrderedDict\n",
    "\n",
    "%load_ext autoreload\n",
    "%autoreload 2\n",
    "from global_settings import mdv, mdf"
   ]
  },
  {
   "cell_type": "code",
   "execution_count": 33,
   "metadata": {},
   "outputs": [],
   "source": [
    "class NotebookUIBuilder:\n",
    "    def __init__(self, probability_dictionary: OrderedDict) -> None:\n",
    "        self.proba_dict = probability_dictionary\n",
    "        self.main_accordion = None\n",
    "\n",
    "    def build_ui(self):\n",
    "        widgets_list = []\n",
    "        widgets_names = []\n",
    "        for k in self.proba_dict.keys():\n",
    "            widgets_list.append(self.proba_dict[k][\"widget_list\"])\n",
    "            widgets_names.append(self.proba_dict[k][\"title\"])\n",
    "        self.main_accordion = widgets.Accordion(\n",
    "            children=widgets_list,\n",
    "            titles=widgets_names\n",
    "        )\n",
    "\n",
    "    def display(self):\n",
    "        if self.main_accordion is None:\n",
    "            self.build_ui()\n",
    "        display(self.main_accordion)\n",
    "\n",
    "    def get_widget(self):\n",
    "        if self.main_accordion is None:\n",
    "            self.build_ui()\n",
    "        return self.main_accordion\n"
   ]
  },
  {
   "cell_type": "code",
   "execution_count": 34,
   "metadata": {},
   "outputs": [],
   "source": [
    "widgets_dict = OrderedDict()\n",
    "\n",
    "local_mdv = mdv.copy()\n",
    "for k in local_mdv.keys():\n",
    "    local_mdv[k] = widgets.IntText(value=local_mdv[k], description=k.replace(\"_\", \" \").capitalize(),\n",
    "                                   style={'description_width': 'initial'})\n",
    "key_list = list(local_mdv.keys())\n",
    "\n",
    "\n",
    "list_values = [k for k in mdf.keys()]\n",
    "modfunctions_dropdown = widgets.Dropdown(\n",
    "    options = list_values,\n",
    "    value=list_values[0],\n",
    "    description=\"Local Modifier Function: \",\n",
    "                style={'description_width': 'initial'}\n",
    ")\n",
    "\n",
    "list_values = [k for k in mdf.keys()]\n",
    "simfunctions_dropdown = widgets.Dropdown(\n",
    "    options = list_values,\n",
    "    value=list_values[0],\n",
    "    description=\"Local Simulator Function: \",\n",
    "                style={'description_width': 'initial'}\n",
    ")\n",
    "\n",
    "\n",
    "widgets_dict[\"mod_controller_parm\"] = {\"widget_list\": widgets.Box([widgets.VBox([\n",
    "    widgets.Box([local_mdv[key_list[0]],local_mdv[key_list[1]]]),\n",
    "    widgets.Box([local_mdv[key_list[2]],local_mdv[key_list[3]]])\n",
    "    ]), \n",
    "    modfunctions_dropdown,simfunctions_dropdown\n",
    "    ]),\n",
    "                                       \"title\": \"SimEx Planner\"} "
   ]
  },
  {
   "cell_type": "code",
   "execution_count": 36,
   "metadata": {},
   "outputs": [
    {
     "data": {
      "application/vnd.jupyter.widget-view+json": {
       "model_id": "f78c79b4c78f4c50b9ad71b0b6fe3a84",
       "version_major": 2,
       "version_minor": 0
      },
      "text/plain": [
       "Accordion(children=(Box(children=(VBox(children=(Box(children=(IntText(value=1, description='Domain min range'…"
      ]
     },
     "metadata": {},
     "output_type": "display_data"
    }
   ],
   "source": [
    "main_gui = NotebookUIBuilder(widgets_dict)\n",
    "main_gui.display()\n"
   ]
  }
 ],
 "metadata": {
  "kernelspec": {
   "display_name": "SimEx",
   "language": "python",
   "name": "python3"
  },
  "language_info": {
   "codemirror_mode": {
    "name": "ipython",
    "version": 3
   },
   "file_extension": ".py",
   "mimetype": "text/x-python",
   "name": "python",
   "nbconvert_exporter": "python",
   "pygments_lexer": "ipython3",
   "version": "3.10.13"
  },
  "orig_nbformat": 4
 },
 "nbformat": 4,
 "nbformat_minor": 2
}
